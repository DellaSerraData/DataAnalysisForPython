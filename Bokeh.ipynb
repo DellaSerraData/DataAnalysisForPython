{
 "cells": [
  {
   "cell_type": "markdown",
   "id": "f8f4b484",
   "metadata": {},
   "source": [
    "# Bokeh \n"
   ]
  },
  {
   "cell_type": "code",
   "execution_count": 2,
   "id": "cdd5227b",
   "metadata": {},
   "outputs": [],
   "source": [
    "# Importando o modulo Bokeh\n",
    "import bokeh\n",
    "from bokeh.io import show, output_notebook\n",
    "from bokeh.plotting import figure, output_file\n",
    "from bokeh.models import ColumnDataSource\n",
    "from bokeh.transform import factor_cmap\n",
    "from bokeh.palettes import Spectral6"
   ]
  },
  {
   "cell_type": "code",
   "execution_count": 3,
   "id": "c50ea986",
   "metadata": {},
   "outputs": [
    {
     "data": {
      "text/html": [
       "<div class=\"bk-root\">\n",
       "        <a href=\"https://bokeh.org\" target=\"_blank\" class=\"bk-logo bk-logo-small bk-logo-notebook\"></a>\n",
       "        <span id=\"1002\">Loading BokehJS ...</span>\n",
       "    </div>\n"
      ]
     },
     "metadata": {},
     "output_type": "display_data"
    },
    {
     "data": {
      "application/javascript": [
       "(function(root) {\n",
       "  function now() {\n",
       "    return new Date();\n",
       "  }\n",
       "\n",
       "  const force = true;\n",
       "\n",
       "  if (typeof root._bokeh_onload_callbacks === \"undefined\" || force === true) {\n",
       "    root._bokeh_onload_callbacks = [];\n",
       "    root._bokeh_is_loading = undefined;\n",
       "  }\n",
       "\n",
       "const JS_MIME_TYPE = 'application/javascript';\n",
       "  const HTML_MIME_TYPE = 'text/html';\n",
       "  const EXEC_MIME_TYPE = 'application/vnd.bokehjs_exec.v0+json';\n",
       "  const CLASS_NAME = 'output_bokeh rendered_html';\n",
       "\n",
       "  /**\n",
       "   * Render data to the DOM node\n",
       "   */\n",
       "  function render(props, node) {\n",
       "    const script = document.createElement(\"script\");\n",
       "    node.appendChild(script);\n",
       "  }\n",
       "\n",
       "  /**\n",
       "   * Handle when an output is cleared or removed\n",
       "   */\n",
       "  function handleClearOutput(event, handle) {\n",
       "    const cell = handle.cell;\n",
       "\n",
       "    const id = cell.output_area._bokeh_element_id;\n",
       "    const server_id = cell.output_area._bokeh_server_id;\n",
       "    // Clean up Bokeh references\n",
       "    if (id != null && id in Bokeh.index) {\n",
       "      Bokeh.index[id].model.document.clear();\n",
       "      delete Bokeh.index[id];\n",
       "    }\n",
       "\n",
       "    if (server_id !== undefined) {\n",
       "      // Clean up Bokeh references\n",
       "      const cmd_clean = \"from bokeh.io.state import curstate; print(curstate().uuid_to_server['\" + server_id + \"'].get_sessions()[0].document.roots[0]._id)\";\n",
       "      cell.notebook.kernel.execute(cmd_clean, {\n",
       "        iopub: {\n",
       "          output: function(msg) {\n",
       "            const id = msg.content.text.trim();\n",
       "            if (id in Bokeh.index) {\n",
       "              Bokeh.index[id].model.document.clear();\n",
       "              delete Bokeh.index[id];\n",
       "            }\n",
       "          }\n",
       "        }\n",
       "      });\n",
       "      // Destroy server and session\n",
       "      const cmd_destroy = \"import bokeh.io.notebook as ion; ion.destroy_server('\" + server_id + \"')\";\n",
       "      cell.notebook.kernel.execute(cmd_destroy);\n",
       "    }\n",
       "  }\n",
       "\n",
       "  /**\n",
       "   * Handle when a new output is added\n",
       "   */\n",
       "  function handleAddOutput(event, handle) {\n",
       "    const output_area = handle.output_area;\n",
       "    const output = handle.output;\n",
       "\n",
       "    // limit handleAddOutput to display_data with EXEC_MIME_TYPE content only\n",
       "    if ((output.output_type != \"display_data\") || (!Object.prototype.hasOwnProperty.call(output.data, EXEC_MIME_TYPE))) {\n",
       "      return\n",
       "    }\n",
       "\n",
       "    const toinsert = output_area.element.find(\".\" + CLASS_NAME.split(' ')[0]);\n",
       "\n",
       "    if (output.metadata[EXEC_MIME_TYPE][\"id\"] !== undefined) {\n",
       "      toinsert[toinsert.length - 1].firstChild.textContent = output.data[JS_MIME_TYPE];\n",
       "      // store reference to embed id on output_area\n",
       "      output_area._bokeh_element_id = output.metadata[EXEC_MIME_TYPE][\"id\"];\n",
       "    }\n",
       "    if (output.metadata[EXEC_MIME_TYPE][\"server_id\"] !== undefined) {\n",
       "      const bk_div = document.createElement(\"div\");\n",
       "      bk_div.innerHTML = output.data[HTML_MIME_TYPE];\n",
       "      const script_attrs = bk_div.children[0].attributes;\n",
       "      for (let i = 0; i < script_attrs.length; i++) {\n",
       "        toinsert[toinsert.length - 1].firstChild.setAttribute(script_attrs[i].name, script_attrs[i].value);\n",
       "        toinsert[toinsert.length - 1].firstChild.textContent = bk_div.children[0].textContent\n",
       "      }\n",
       "      // store reference to server id on output_area\n",
       "      output_area._bokeh_server_id = output.metadata[EXEC_MIME_TYPE][\"server_id\"];\n",
       "    }\n",
       "  }\n",
       "\n",
       "  function register_renderer(events, OutputArea) {\n",
       "\n",
       "    function append_mime(data, metadata, element) {\n",
       "      // create a DOM node to render to\n",
       "      const toinsert = this.create_output_subarea(\n",
       "        metadata,\n",
       "        CLASS_NAME,\n",
       "        EXEC_MIME_TYPE\n",
       "      );\n",
       "      this.keyboard_manager.register_events(toinsert);\n",
       "      // Render to node\n",
       "      const props = {data: data, metadata: metadata[EXEC_MIME_TYPE]};\n",
       "      render(props, toinsert[toinsert.length - 1]);\n",
       "      element.append(toinsert);\n",
       "      return toinsert\n",
       "    }\n",
       "\n",
       "    /* Handle when an output is cleared or removed */\n",
       "    events.on('clear_output.CodeCell', handleClearOutput);\n",
       "    events.on('delete.Cell', handleClearOutput);\n",
       "\n",
       "    /* Handle when a new output is added */\n",
       "    events.on('output_added.OutputArea', handleAddOutput);\n",
       "\n",
       "    /**\n",
       "     * Register the mime type and append_mime function with output_area\n",
       "     */\n",
       "    OutputArea.prototype.register_mime_type(EXEC_MIME_TYPE, append_mime, {\n",
       "      /* Is output safe? */\n",
       "      safe: true,\n",
       "      /* Index of renderer in `output_area.display_order` */\n",
       "      index: 0\n",
       "    });\n",
       "  }\n",
       "\n",
       "  // register the mime type if in Jupyter Notebook environment and previously unregistered\n",
       "  if (root.Jupyter !== undefined) {\n",
       "    const events = require('base/js/events');\n",
       "    const OutputArea = require('notebook/js/outputarea').OutputArea;\n",
       "\n",
       "    if (OutputArea.prototype.mime_types().indexOf(EXEC_MIME_TYPE) == -1) {\n",
       "      register_renderer(events, OutputArea);\n",
       "    }\n",
       "  }\n",
       "  if (typeof (root._bokeh_timeout) === \"undefined\" || force === true) {\n",
       "    root._bokeh_timeout = Date.now() + 5000;\n",
       "    root._bokeh_failed_load = false;\n",
       "  }\n",
       "\n",
       "  const NB_LOAD_WARNING = {'data': {'text/html':\n",
       "     \"<div style='background-color: #fdd'>\\n\"+\n",
       "     \"<p>\\n\"+\n",
       "     \"BokehJS does not appear to have successfully loaded. If loading BokehJS from CDN, this \\n\"+\n",
       "     \"may be due to a slow or bad network connection. Possible fixes:\\n\"+\n",
       "     \"</p>\\n\"+\n",
       "     \"<ul>\\n\"+\n",
       "     \"<li>re-rerun `output_notebook()` to attempt to load from CDN again, or</li>\\n\"+\n",
       "     \"<li>use INLINE resources instead, as so:</li>\\n\"+\n",
       "     \"</ul>\\n\"+\n",
       "     \"<code>\\n\"+\n",
       "     \"from bokeh.resources import INLINE\\n\"+\n",
       "     \"output_notebook(resources=INLINE)\\n\"+\n",
       "     \"</code>\\n\"+\n",
       "     \"</div>\"}};\n",
       "\n",
       "  function display_loaded() {\n",
       "    const el = document.getElementById(\"1002\");\n",
       "    if (el != null) {\n",
       "      el.textContent = \"BokehJS is loading...\";\n",
       "    }\n",
       "    if (root.Bokeh !== undefined) {\n",
       "      if (el != null) {\n",
       "        el.textContent = \"BokehJS \" + root.Bokeh.version + \" successfully loaded.\";\n",
       "      }\n",
       "    } else if (Date.now() < root._bokeh_timeout) {\n",
       "      setTimeout(display_loaded, 100)\n",
       "    }\n",
       "  }\n",
       "\n",
       "  function run_callbacks() {\n",
       "    try {\n",
       "      root._bokeh_onload_callbacks.forEach(function(callback) {\n",
       "        if (callback != null)\n",
       "          callback();\n",
       "      });\n",
       "    } finally {\n",
       "      delete root._bokeh_onload_callbacks\n",
       "    }\n",
       "    console.debug(\"Bokeh: all callbacks have finished\");\n",
       "  }\n",
       "\n",
       "  function load_libs(css_urls, js_urls, callback) {\n",
       "    if (css_urls == null) css_urls = [];\n",
       "    if (js_urls == null) js_urls = [];\n",
       "\n",
       "    root._bokeh_onload_callbacks.push(callback);\n",
       "    if (root._bokeh_is_loading > 0) {\n",
       "      console.debug(\"Bokeh: BokehJS is being loaded, scheduling callback at\", now());\n",
       "      return null;\n",
       "    }\n",
       "    if (js_urls == null || js_urls.length === 0) {\n",
       "      run_callbacks();\n",
       "      return null;\n",
       "    }\n",
       "    console.debug(\"Bokeh: BokehJS not loaded, scheduling load and callback at\", now());\n",
       "    root._bokeh_is_loading = css_urls.length + js_urls.length;\n",
       "\n",
       "    function on_load() {\n",
       "      root._bokeh_is_loading--;\n",
       "      if (root._bokeh_is_loading === 0) {\n",
       "        console.debug(\"Bokeh: all BokehJS libraries/stylesheets loaded\");\n",
       "        run_callbacks()\n",
       "      }\n",
       "    }\n",
       "\n",
       "    function on_error(url) {\n",
       "      console.error(\"failed to load \" + url);\n",
       "    }\n",
       "\n",
       "    for (let i = 0; i < css_urls.length; i++) {\n",
       "      const url = css_urls[i];\n",
       "      const element = document.createElement(\"link\");\n",
       "      element.onload = on_load;\n",
       "      element.onerror = on_error.bind(null, url);\n",
       "      element.rel = \"stylesheet\";\n",
       "      element.type = \"text/css\";\n",
       "      element.href = url;\n",
       "      console.debug(\"Bokeh: injecting link tag for BokehJS stylesheet: \", url);\n",
       "      document.body.appendChild(element);\n",
       "    }\n",
       "\n",
       "    for (let i = 0; i < js_urls.length; i++) {\n",
       "      const url = js_urls[i];\n",
       "      const element = document.createElement('script');\n",
       "      element.onload = on_load;\n",
       "      element.onerror = on_error.bind(null, url);\n",
       "      element.async = false;\n",
       "      element.src = url;\n",
       "      console.debug(\"Bokeh: injecting script tag for BokehJS library: \", url);\n",
       "      document.head.appendChild(element);\n",
       "    }\n",
       "  };\n",
       "\n",
       "  function inject_raw_css(css) {\n",
       "    const element = document.createElement(\"style\");\n",
       "    element.appendChild(document.createTextNode(css));\n",
       "    document.body.appendChild(element);\n",
       "  }\n",
       "\n",
       "  const js_urls = [\"https://cdn.bokeh.org/bokeh/release/bokeh-2.4.3.min.js\", \"https://cdn.bokeh.org/bokeh/release/bokeh-gl-2.4.3.min.js\", \"https://cdn.bokeh.org/bokeh/release/bokeh-widgets-2.4.3.min.js\", \"https://cdn.bokeh.org/bokeh/release/bokeh-tables-2.4.3.min.js\", \"https://cdn.bokeh.org/bokeh/release/bokeh-mathjax-2.4.3.min.js\"];\n",
       "  const css_urls = [];\n",
       "\n",
       "  const inline_js = [    function(Bokeh) {\n",
       "      Bokeh.set_log_level(\"info\");\n",
       "    },\n",
       "function(Bokeh) {\n",
       "    }\n",
       "  ];\n",
       "\n",
       "  function run_inline_js() {\n",
       "    if (root.Bokeh !== undefined || force === true) {\n",
       "          for (let i = 0; i < inline_js.length; i++) {\n",
       "      inline_js[i].call(root, root.Bokeh);\n",
       "    }\n",
       "if (force === true) {\n",
       "        display_loaded();\n",
       "      }} else if (Date.now() < root._bokeh_timeout) {\n",
       "      setTimeout(run_inline_js, 100);\n",
       "    } else if (!root._bokeh_failed_load) {\n",
       "      console.log(\"Bokeh: BokehJS failed to load within specified timeout.\");\n",
       "      root._bokeh_failed_load = true;\n",
       "    } else if (force !== true) {\n",
       "      const cell = $(document.getElementById(\"1002\")).parents('.cell').data().cell;\n",
       "      cell.output_area.append_execute_result(NB_LOAD_WARNING)\n",
       "    }\n",
       "  }\n",
       "\n",
       "  if (root._bokeh_is_loading === 0) {\n",
       "    console.debug(\"Bokeh: BokehJS loaded, going straight to plotting\");\n",
       "    run_inline_js();\n",
       "  } else {\n",
       "    load_libs(css_urls, js_urls, function() {\n",
       "      console.debug(\"Bokeh: BokehJS plotting callback run at\", now());\n",
       "      run_inline_js();\n",
       "    });\n",
       "  }\n",
       "}(window));"
      ],
      "application/vnd.bokehjs_load.v0+json": "(function(root) {\n  function now() {\n    return new Date();\n  }\n\n  const force = true;\n\n  if (typeof root._bokeh_onload_callbacks === \"undefined\" || force === true) {\n    root._bokeh_onload_callbacks = [];\n    root._bokeh_is_loading = undefined;\n  }\n\n\n  if (typeof (root._bokeh_timeout) === \"undefined\" || force === true) {\n    root._bokeh_timeout = Date.now() + 5000;\n    root._bokeh_failed_load = false;\n  }\n\n  const NB_LOAD_WARNING = {'data': {'text/html':\n     \"<div style='background-color: #fdd'>\\n\"+\n     \"<p>\\n\"+\n     \"BokehJS does not appear to have successfully loaded. If loading BokehJS from CDN, this \\n\"+\n     \"may be due to a slow or bad network connection. Possible fixes:\\n\"+\n     \"</p>\\n\"+\n     \"<ul>\\n\"+\n     \"<li>re-rerun `output_notebook()` to attempt to load from CDN again, or</li>\\n\"+\n     \"<li>use INLINE resources instead, as so:</li>\\n\"+\n     \"</ul>\\n\"+\n     \"<code>\\n\"+\n     \"from bokeh.resources import INLINE\\n\"+\n     \"output_notebook(resources=INLINE)\\n\"+\n     \"</code>\\n\"+\n     \"</div>\"}};\n\n  function display_loaded() {\n    const el = document.getElementById(\"1002\");\n    if (el != null) {\n      el.textContent = \"BokehJS is loading...\";\n    }\n    if (root.Bokeh !== undefined) {\n      if (el != null) {\n        el.textContent = \"BokehJS \" + root.Bokeh.version + \" successfully loaded.\";\n      }\n    } else if (Date.now() < root._bokeh_timeout) {\n      setTimeout(display_loaded, 100)\n    }\n  }\n\n  function run_callbacks() {\n    try {\n      root._bokeh_onload_callbacks.forEach(function(callback) {\n        if (callback != null)\n          callback();\n      });\n    } finally {\n      delete root._bokeh_onload_callbacks\n    }\n    console.debug(\"Bokeh: all callbacks have finished\");\n  }\n\n  function load_libs(css_urls, js_urls, callback) {\n    if (css_urls == null) css_urls = [];\n    if (js_urls == null) js_urls = [];\n\n    root._bokeh_onload_callbacks.push(callback);\n    if (root._bokeh_is_loading > 0) {\n      console.debug(\"Bokeh: BokehJS is being loaded, scheduling callback at\", now());\n      return null;\n    }\n    if (js_urls == null || js_urls.length === 0) {\n      run_callbacks();\n      return null;\n    }\n    console.debug(\"Bokeh: BokehJS not loaded, scheduling load and callback at\", now());\n    root._bokeh_is_loading = css_urls.length + js_urls.length;\n\n    function on_load() {\n      root._bokeh_is_loading--;\n      if (root._bokeh_is_loading === 0) {\n        console.debug(\"Bokeh: all BokehJS libraries/stylesheets loaded\");\n        run_callbacks()\n      }\n    }\n\n    function on_error(url) {\n      console.error(\"failed to load \" + url);\n    }\n\n    for (let i = 0; i < css_urls.length; i++) {\n      const url = css_urls[i];\n      const element = document.createElement(\"link\");\n      element.onload = on_load;\n      element.onerror = on_error.bind(null, url);\n      element.rel = \"stylesheet\";\n      element.type = \"text/css\";\n      element.href = url;\n      console.debug(\"Bokeh: injecting link tag for BokehJS stylesheet: \", url);\n      document.body.appendChild(element);\n    }\n\n    for (let i = 0; i < js_urls.length; i++) {\n      const url = js_urls[i];\n      const element = document.createElement('script');\n      element.onload = on_load;\n      element.onerror = on_error.bind(null, url);\n      element.async = false;\n      element.src = url;\n      console.debug(\"Bokeh: injecting script tag for BokehJS library: \", url);\n      document.head.appendChild(element);\n    }\n  };\n\n  function inject_raw_css(css) {\n    const element = document.createElement(\"style\");\n    element.appendChild(document.createTextNode(css));\n    document.body.appendChild(element);\n  }\n\n  const js_urls = [\"https://cdn.bokeh.org/bokeh/release/bokeh-2.4.3.min.js\", \"https://cdn.bokeh.org/bokeh/release/bokeh-gl-2.4.3.min.js\", \"https://cdn.bokeh.org/bokeh/release/bokeh-widgets-2.4.3.min.js\", \"https://cdn.bokeh.org/bokeh/release/bokeh-tables-2.4.3.min.js\", \"https://cdn.bokeh.org/bokeh/release/bokeh-mathjax-2.4.3.min.js\"];\n  const css_urls = [];\n\n  const inline_js = [    function(Bokeh) {\n      Bokeh.set_log_level(\"info\");\n    },\nfunction(Bokeh) {\n    }\n  ];\n\n  function run_inline_js() {\n    if (root.Bokeh !== undefined || force === true) {\n          for (let i = 0; i < inline_js.length; i++) {\n      inline_js[i].call(root, root.Bokeh);\n    }\nif (force === true) {\n        display_loaded();\n      }} else if (Date.now() < root._bokeh_timeout) {\n      setTimeout(run_inline_js, 100);\n    } else if (!root._bokeh_failed_load) {\n      console.log(\"Bokeh: BokehJS failed to load within specified timeout.\");\n      root._bokeh_failed_load = true;\n    } else if (force !== true) {\n      const cell = $(document.getElementById(\"1002\")).parents('.cell').data().cell;\n      cell.output_area.append_execute_result(NB_LOAD_WARNING)\n    }\n  }\n\n  if (root._bokeh_is_loading === 0) {\n    console.debug(\"Bokeh: BokehJS loaded, going straight to plotting\");\n    run_inline_js();\n  } else {\n    load_libs(css_urls, js_urls, function() {\n      console.debug(\"Bokeh: BokehJS plotting callback run at\", now());\n      run_inline_js();\n    });\n  }\n}(window));"
     },
     "metadata": {},
     "output_type": "display_data"
    }
   ],
   "source": [
    "# Carregando o Bokeh \n",
    "output_notebook()"
   ]
  },
  {
   "cell_type": "code",
   "execution_count": 4,
   "id": "725f2d8f",
   "metadata": {},
   "outputs": [],
   "source": [
    "# Arquivo gerado pela visualizacao\n",
    "output_file(\"Bokeh-Grafico-Interativo.html\")"
   ]
  },
  {
   "cell_type": "code",
   "execution_count": 5,
   "id": "71f86c72",
   "metadata": {},
   "outputs": [],
   "source": [
    "p = figure()"
   ]
  },
  {
   "cell_type": "code",
   "execution_count": 6,
   "id": "4f34ccd6",
   "metadata": {},
   "outputs": [
    {
     "data": {
      "text/plain": [
       "bokeh.plotting.figure.Figure"
      ]
     },
     "execution_count": 6,
     "metadata": {},
     "output_type": "execute_result"
    }
   ],
   "source": [
    "type(p)"
   ]
  },
  {
   "cell_type": "code",
   "execution_count": 7,
   "id": "1bffb295",
   "metadata": {},
   "outputs": [
    {
     "data": {
      "text/html": [
       "<div style=\"display: table;\"><div style=\"display: table-row;\"><div style=\"display: table-cell;\"><b title=\"bokeh.models.renderers.GlyphRenderer\">GlyphRenderer</b>(</div><div style=\"display: table-cell;\">id&nbsp;=&nbsp;'1038', <span id=\"1041\" style=\"cursor: pointer;\">&hellip;)</span></div></div><div class=\"1040\" style=\"display: none;\"><div style=\"display: table-cell;\"></div><div style=\"display: table-cell;\">coordinates&nbsp;=&nbsp;None,</div></div><div class=\"1040\" style=\"display: none;\"><div style=\"display: table-cell;\"></div><div style=\"display: table-cell;\">data_source&nbsp;=&nbsp;ColumnDataSource(id='1034', ...),</div></div><div class=\"1040\" style=\"display: none;\"><div style=\"display: table-cell;\"></div><div style=\"display: table-cell;\">glyph&nbsp;=&nbsp;Line(id='1035', ...),</div></div><div class=\"1040\" style=\"display: none;\"><div style=\"display: table-cell;\"></div><div style=\"display: table-cell;\">group&nbsp;=&nbsp;None,</div></div><div class=\"1040\" style=\"display: none;\"><div style=\"display: table-cell;\"></div><div style=\"display: table-cell;\">hover_glyph&nbsp;=&nbsp;None,</div></div><div class=\"1040\" style=\"display: none;\"><div style=\"display: table-cell;\"></div><div style=\"display: table-cell;\">js_event_callbacks&nbsp;=&nbsp;{},</div></div><div class=\"1040\" style=\"display: none;\"><div style=\"display: table-cell;\"></div><div style=\"display: table-cell;\">js_property_callbacks&nbsp;=&nbsp;{},</div></div><div class=\"1040\" style=\"display: none;\"><div style=\"display: table-cell;\"></div><div style=\"display: table-cell;\">level&nbsp;=&nbsp;'glyph',</div></div><div class=\"1040\" style=\"display: none;\"><div style=\"display: table-cell;\"></div><div style=\"display: table-cell;\">muted&nbsp;=&nbsp;False,</div></div><div class=\"1040\" style=\"display: none;\"><div style=\"display: table-cell;\"></div><div style=\"display: table-cell;\">muted_glyph&nbsp;=&nbsp;Line(id='1037', ...),</div></div><div class=\"1040\" style=\"display: none;\"><div style=\"display: table-cell;\"></div><div style=\"display: table-cell;\">name&nbsp;=&nbsp;None,</div></div><div class=\"1040\" style=\"display: none;\"><div style=\"display: table-cell;\"></div><div style=\"display: table-cell;\">nonselection_glyph&nbsp;=&nbsp;Line(id='1036', ...),</div></div><div class=\"1040\" style=\"display: none;\"><div style=\"display: table-cell;\"></div><div style=\"display: table-cell;\">selection_glyph&nbsp;=&nbsp;'auto',</div></div><div class=\"1040\" style=\"display: none;\"><div style=\"display: table-cell;\"></div><div style=\"display: table-cell;\">subscribed_events&nbsp;=&nbsp;[],</div></div><div class=\"1040\" style=\"display: none;\"><div style=\"display: table-cell;\"></div><div style=\"display: table-cell;\">syncable&nbsp;=&nbsp;True,</div></div><div class=\"1040\" style=\"display: none;\"><div style=\"display: table-cell;\"></div><div style=\"display: table-cell;\">tags&nbsp;=&nbsp;[],</div></div><div class=\"1040\" style=\"display: none;\"><div style=\"display: table-cell;\"></div><div style=\"display: table-cell;\">view&nbsp;=&nbsp;CDSView(id='1039', ...),</div></div><div class=\"1040\" style=\"display: none;\"><div style=\"display: table-cell;\"></div><div style=\"display: table-cell;\">visible&nbsp;=&nbsp;True,</div></div><div class=\"1040\" style=\"display: none;\"><div style=\"display: table-cell;\"></div><div style=\"display: table-cell;\">x_range_name&nbsp;=&nbsp;'default',</div></div><div class=\"1040\" style=\"display: none;\"><div style=\"display: table-cell;\"></div><div style=\"display: table-cell;\">y_range_name&nbsp;=&nbsp;'default')</div></div></div>\n",
       "<script>\n",
       "(function() {\n",
       "  let expanded = false;\n",
       "  const ellipsis = document.getElementById(\"1041\");\n",
       "  ellipsis.addEventListener(\"click\", function() {\n",
       "    const rows = document.getElementsByClassName(\"1040\");\n",
       "    for (let i = 0; i < rows.length; i++) {\n",
       "      const el = rows[i];\n",
       "      el.style.display = expanded ? \"none\" : \"table-row\";\n",
       "    }\n",
       "    ellipsis.innerHTML = expanded ? \"&hellip;)\" : \"&lsaquo;&lsaquo;&lsaquo;\";\n",
       "    expanded = !expanded;\n",
       "  });\n",
       "})();\n",
       "</script>\n"
      ],
      "text/plain": [
       "GlyphRenderer(id='1038', ...)"
      ]
     },
     "execution_count": 7,
     "metadata": {},
     "output_type": "execute_result"
    }
   ],
   "source": [
    "p.line([1, 2, 3, 4, 5], [6, 7, 2, 4, 5], line_width = 2)"
   ]
  },
  {
   "cell_type": "code",
   "execution_count": 8,
   "id": "80935606",
   "metadata": {},
   "outputs": [
    {
     "data": {
      "text/html": [
       "\n",
       "  <div class=\"bk-root\" id=\"03903f5d-c143-45ae-8a5c-73b950f91923\" data-root-id=\"1003\"></div>\n"
      ]
     },
     "metadata": {},
     "output_type": "display_data"
    },
    {
     "data": {
      "application/javascript": [
       "(function(root) {\n",
       "  function embed_document(root) {\n",
       "  const docs_json = {\"b868f960-0fcf-4692-b6ef-721c95b10740\":{\"defs\":[],\"roots\":{\"references\":[{\"attributes\":{\"below\":[{\"id\":\"1012\"}],\"center\":[{\"id\":\"1015\"},{\"id\":\"1019\"}],\"left\":[{\"id\":\"1016\"}],\"renderers\":[{\"id\":\"1038\"}],\"title\":{\"id\":\"1042\"},\"toolbar\":{\"id\":\"1027\"},\"x_range\":{\"id\":\"1004\"},\"x_scale\":{\"id\":\"1008\"},\"y_range\":{\"id\":\"1006\"},\"y_scale\":{\"id\":\"1010\"}},\"id\":\"1003\",\"subtype\":\"Figure\",\"type\":\"Plot\"},{\"attributes\":{\"axis\":{\"id\":\"1012\"},\"coordinates\":null,\"group\":null,\"ticker\":null},\"id\":\"1015\",\"type\":\"Grid\"},{\"attributes\":{\"line_color\":\"#1f77b4\",\"line_width\":2,\"x\":{\"field\":\"x\"},\"y\":{\"field\":\"y\"}},\"id\":\"1035\",\"type\":\"Line\"},{\"attributes\":{},\"id\":\"1008\",\"type\":\"LinearScale\"},{\"attributes\":{\"line_alpha\":0.2,\"line_color\":\"#1f77b4\",\"line_width\":2,\"x\":{\"field\":\"x\"},\"y\":{\"field\":\"y\"}},\"id\":\"1037\",\"type\":\"Line\"},{\"attributes\":{},\"id\":\"1021\",\"type\":\"WheelZoomTool\"},{\"attributes\":{\"coordinates\":null,\"data_source\":{\"id\":\"1034\"},\"glyph\":{\"id\":\"1035\"},\"group\":null,\"hover_glyph\":null,\"muted_glyph\":{\"id\":\"1037\"},\"nonselection_glyph\":{\"id\":\"1036\"},\"view\":{\"id\":\"1039\"}},\"id\":\"1038\",\"type\":\"GlyphRenderer\"},{\"attributes\":{},\"id\":\"1025\",\"type\":\"HelpTool\"},{\"attributes\":{\"coordinates\":null,\"group\":null},\"id\":\"1042\",\"type\":\"Title\"},{\"attributes\":{},\"id\":\"1046\",\"type\":\"AllLabels\"},{\"attributes\":{},\"id\":\"1020\",\"type\":\"PanTool\"},{\"attributes\":{\"line_alpha\":0.1,\"line_color\":\"#1f77b4\",\"line_width\":2,\"x\":{\"field\":\"x\"},\"y\":{\"field\":\"y\"}},\"id\":\"1036\",\"type\":\"Line\"},{\"attributes\":{},\"id\":\"1048\",\"type\":\"BasicTickFormatter\"},{\"attributes\":{\"overlay\":{\"id\":\"1026\"}},\"id\":\"1022\",\"type\":\"BoxZoomTool\"},{\"attributes\":{},\"id\":\"1023\",\"type\":\"SaveTool\"},{\"attributes\":{},\"id\":\"1024\",\"type\":\"ResetTool\"},{\"attributes\":{},\"id\":\"1049\",\"type\":\"AllLabels\"},{\"attributes\":{\"coordinates\":null,\"formatter\":{\"id\":\"1048\"},\"group\":null,\"major_label_policy\":{\"id\":\"1049\"},\"ticker\":{\"id\":\"1013\"}},\"id\":\"1012\",\"type\":\"LinearAxis\"},{\"attributes\":{\"bottom_units\":\"screen\",\"coordinates\":null,\"fill_alpha\":0.5,\"fill_color\":\"lightgrey\",\"group\":null,\"left_units\":\"screen\",\"level\":\"overlay\",\"line_alpha\":1.0,\"line_color\":\"black\",\"line_dash\":[4,4],\"line_width\":2,\"right_units\":\"screen\",\"syncable\":false,\"top_units\":\"screen\"},\"id\":\"1026\",\"type\":\"BoxAnnotation\"},{\"attributes\":{},\"id\":\"1010\",\"type\":\"LinearScale\"},{\"attributes\":{},\"id\":\"1013\",\"type\":\"BasicTicker\"},{\"attributes\":{\"axis\":{\"id\":\"1016\"},\"coordinates\":null,\"dimension\":1,\"group\":null,\"ticker\":null},\"id\":\"1019\",\"type\":\"Grid\"},{\"attributes\":{},\"id\":\"1017\",\"type\":\"BasicTicker\"},{\"attributes\":{},\"id\":\"1006\",\"type\":\"DataRange1d\"},{\"attributes\":{},\"id\":\"1050\",\"type\":\"UnionRenderers\"},{\"attributes\":{},\"id\":\"1004\",\"type\":\"DataRange1d\"},{\"attributes\":{},\"id\":\"1045\",\"type\":\"BasicTickFormatter\"},{\"attributes\":{},\"id\":\"1051\",\"type\":\"Selection\"},{\"attributes\":{\"tools\":[{\"id\":\"1020\"},{\"id\":\"1021\"},{\"id\":\"1022\"},{\"id\":\"1023\"},{\"id\":\"1024\"},{\"id\":\"1025\"}]},\"id\":\"1027\",\"type\":\"Toolbar\"},{\"attributes\":{\"source\":{\"id\":\"1034\"}},\"id\":\"1039\",\"type\":\"CDSView\"},{\"attributes\":{\"data\":{\"x\":[1,2,3,4,5],\"y\":[6,7,2,4,5]},\"selected\":{\"id\":\"1051\"},\"selection_policy\":{\"id\":\"1050\"}},\"id\":\"1034\",\"type\":\"ColumnDataSource\"},{\"attributes\":{\"coordinates\":null,\"formatter\":{\"id\":\"1045\"},\"group\":null,\"major_label_policy\":{\"id\":\"1046\"},\"ticker\":{\"id\":\"1017\"}},\"id\":\"1016\",\"type\":\"LinearAxis\"}],\"root_ids\":[\"1003\"]},\"title\":\"Bokeh Application\",\"version\":\"2.4.3\"}};\n",
       "  const render_items = [{\"docid\":\"b868f960-0fcf-4692-b6ef-721c95b10740\",\"root_ids\":[\"1003\"],\"roots\":{\"1003\":\"03903f5d-c143-45ae-8a5c-73b950f91923\"}}];\n",
       "  root.Bokeh.embed.embed_items_notebook(docs_json, render_items);\n",
       "  }\n",
       "  if (root.Bokeh !== undefined) {\n",
       "    embed_document(root);\n",
       "  } else {\n",
       "    let attempts = 0;\n",
       "    const timer = setInterval(function(root) {\n",
       "      if (root.Bokeh !== undefined) {\n",
       "        clearInterval(timer);\n",
       "        embed_document(root);\n",
       "      } else {\n",
       "        attempts++;\n",
       "        if (attempts > 100) {\n",
       "          clearInterval(timer);\n",
       "          console.log(\"Bokeh: ERROR: Unable to run BokehJS code because BokehJS library is missing\");\n",
       "        }\n",
       "      }\n",
       "    }, 10, root)\n",
       "  }\n",
       "})(window);"
      ],
      "application/vnd.bokehjs_exec.v0+json": ""
     },
     "metadata": {
      "application/vnd.bokehjs_exec.v0+json": {
       "id": "1003"
      }
     },
     "output_type": "display_data"
    }
   ],
   "source": [
    "show(p)"
   ]
  },
  {
   "cell_type": "markdown",
   "id": "3464428e",
   "metadata": {},
   "source": [
    "# Grafico de Barras"
   ]
  },
  {
   "cell_type": "code",
   "execution_count": 10,
   "id": "36153096",
   "metadata": {},
   "outputs": [
    {
     "data": {
      "text/html": [
       "\n",
       "  <div class=\"bk-root\" id=\"a139f68e-e7ec-49de-941e-96c510adaf23\" data-root-id=\"1242\"></div>\n"
      ]
     },
     "metadata": {},
     "output_type": "display_data"
    },
    {
     "data": {
      "application/javascript": [
       "(function(root) {\n",
       "  function embed_document(root) {\n",
       "  const docs_json = {\"568aa7fa-235c-4f70-909d-390e03b99d34\":{\"defs\":[],\"roots\":{\"references\":[{\"attributes\":{\"below\":[{\"id\":\"1253\"}],\"center\":[{\"id\":\"1255\"},{\"id\":\"1259\"},{\"id\":\"1291\"}],\"height\":350,\"left\":[{\"id\":\"1256\"}],\"renderers\":[{\"id\":\"1279\"}],\"title\":{\"id\":\"1243\"},\"toolbar\":{\"id\":\"1267\"},\"toolbar_location\":null,\"x_range\":{\"id\":\"1245\"},\"x_scale\":{\"id\":\"1249\"},\"y_range\":{\"id\":\"1247\"},\"y_scale\":{\"id\":\"1251\"}},\"id\":\"1242\",\"subtype\":\"Figure\",\"type\":\"Plot\"},{\"attributes\":{\"tools\":[{\"id\":\"1260\"},{\"id\":\"1261\"},{\"id\":\"1262\"},{\"id\":\"1263\"},{\"id\":\"1264\"},{\"id\":\"1265\"}]},\"id\":\"1267\",\"type\":\"Toolbar\"},{\"attributes\":{\"coordinates\":null,\"formatter\":{\"id\":\"1286\"},\"group\":null,\"major_label_policy\":{\"id\":\"1287\"},\"ticker\":{\"id\":\"1254\"}},\"id\":\"1253\",\"type\":\"CategoricalAxis\"},{\"attributes\":{\"fill_color\":{\"field\":\"fruits\",\"transform\":{\"id\":\"1274\"}},\"line_color\":{\"value\":\"white\"},\"top\":{\"field\":\"counts\"},\"width\":{\"value\":0.9},\"x\":{\"field\":\"fruits\"}},\"id\":\"1276\",\"type\":\"VBar\"},{\"attributes\":{},\"id\":\"1265\",\"type\":\"HelpTool\"},{\"attributes\":{\"bottom_units\":\"screen\",\"coordinates\":null,\"fill_alpha\":0.5,\"fill_color\":\"lightgrey\",\"group\":null,\"left_units\":\"screen\",\"level\":\"overlay\",\"line_alpha\":1.0,\"line_color\":\"black\",\"line_dash\":[4,4],\"line_width\":2,\"right_units\":\"screen\",\"syncable\":false,\"top_units\":\"screen\"},\"id\":\"1266\",\"type\":\"BoxAnnotation\"},{\"attributes\":{},\"id\":\"1264\",\"type\":\"ResetTool\"},{\"attributes\":{\"fill_alpha\":{\"value\":0.2},\"fill_color\":{\"field\":\"fruits\",\"transform\":{\"id\":\"1274\"}},\"hatch_alpha\":{\"value\":0.2},\"line_alpha\":{\"value\":0.2},\"line_color\":{\"value\":\"white\"},\"top\":{\"field\":\"counts\"},\"width\":{\"value\":0.9},\"x\":{\"field\":\"fruits\"}},\"id\":\"1278\",\"type\":\"VBar\"},{\"attributes\":{},\"id\":\"1263\",\"type\":\"SaveTool\"},{\"attributes\":{\"overlay\":{\"id\":\"1266\"}},\"id\":\"1262\",\"type\":\"BoxZoomTool\"},{\"attributes\":{},\"id\":\"1260\",\"type\":\"PanTool\"},{\"attributes\":{},\"id\":\"1261\",\"type\":\"WheelZoomTool\"},{\"attributes\":{\"data\":{\"counts\":[5,3,4,2,4,6],\"fruits\":[\"Ma\\u00e7as\",\"Peras\",\"Tangerinas\",\"Uvas\",\"Melancias\",\"Morangos\"]},\"selected\":{\"id\":\"1289\"},\"selection_policy\":{\"id\":\"1288\"}},\"id\":\"1241\",\"type\":\"ColumnDataSource\"},{\"attributes\":{\"axis\":{\"id\":\"1253\"},\"coordinates\":null,\"grid_line_color\":null,\"group\":null,\"ticker\":null},\"id\":\"1255\",\"type\":\"Grid\"},{\"attributes\":{\"coordinates\":null,\"formatter\":{\"id\":\"1283\"},\"group\":null,\"major_label_policy\":{\"id\":\"1284\"},\"ticker\":{\"id\":\"1257\"}},\"id\":\"1256\",\"type\":\"LinearAxis\"},{\"attributes\":{},\"id\":\"1251\",\"type\":\"LinearScale\"},{\"attributes\":{},\"id\":\"1249\",\"type\":\"CategoricalScale\"},{\"attributes\":{\"factors\":[\"Ma\\u00e7as\",\"Peras\",\"Tangerinas\",\"Uvas\",\"Melancias\",\"Morangos\"]},\"id\":\"1245\",\"type\":\"FactorRange\"},{\"attributes\":{},\"id\":\"1287\",\"type\":\"AllLabels\"},{\"attributes\":{\"label\":{\"value\":\"fruits\"},\"renderers\":[{\"id\":\"1279\"}]},\"id\":\"1292\",\"type\":\"LegendItem\"},{\"attributes\":{\"coordinates\":null,\"data_source\":{\"id\":\"1241\"},\"glyph\":{\"id\":\"1276\"},\"group\":null,\"hover_glyph\":null,\"muted_glyph\":{\"id\":\"1278\"},\"nonselection_glyph\":{\"id\":\"1277\"},\"view\":{\"id\":\"1280\"}},\"id\":\"1279\",\"type\":\"GlyphRenderer\"},{\"attributes\":{},\"id\":\"1286\",\"type\":\"CategoricalTickFormatter\"},{\"attributes\":{},\"id\":\"1257\",\"type\":\"BasicTicker\"},{\"attributes\":{},\"id\":\"1284\",\"type\":\"AllLabels\"},{\"attributes\":{},\"id\":\"1283\",\"type\":\"BasicTickFormatter\"},{\"attributes\":{},\"id\":\"1288\",\"type\":\"UnionRenderers\"},{\"attributes\":{\"fill_alpha\":{\"value\":0.1},\"fill_color\":{\"field\":\"fruits\",\"transform\":{\"id\":\"1274\"}},\"hatch_alpha\":{\"value\":0.1},\"line_alpha\":{\"value\":0.1},\"line_color\":{\"value\":\"white\"},\"top\":{\"field\":\"counts\"},\"width\":{\"value\":0.9},\"x\":{\"field\":\"fruits\"}},\"id\":\"1277\",\"type\":\"VBar\"},{\"attributes\":{\"end\":9,\"start\":0},\"id\":\"1247\",\"type\":\"DataRange1d\"},{\"attributes\":{\"factors\":[\"Ma\\u00e7as\",\"Peras\",\"Tangerinas\",\"Uvas\",\"Melancias\",\"Morangos\"],\"palette\":[\"#3288bd\",\"#99d594\",\"#e6f598\",\"#fee08b\",\"#fc8d59\",\"#d53e4f\"]},\"id\":\"1274\",\"type\":\"CategoricalColorMapper\"},{\"attributes\":{\"coordinates\":null,\"group\":null,\"text\":\"Contagem de Frutas\"},\"id\":\"1243\",\"type\":\"Title\"},{\"attributes\":{\"axis\":{\"id\":\"1256\"},\"coordinates\":null,\"dimension\":1,\"group\":null,\"ticker\":null},\"id\":\"1259\",\"type\":\"Grid\"},{\"attributes\":{},\"id\":\"1289\",\"type\":\"Selection\"},{\"attributes\":{},\"id\":\"1254\",\"type\":\"CategoricalTicker\"},{\"attributes\":{\"source\":{\"id\":\"1241\"}},\"id\":\"1280\",\"type\":\"CDSView\"},{\"attributes\":{\"coordinates\":null,\"group\":null,\"items\":[{\"id\":\"1292\"}],\"location\":\"top_center\",\"orientation\":\"horizontal\"},\"id\":\"1291\",\"type\":\"Legend\"}],\"root_ids\":[\"1242\"]},\"title\":\"Bokeh Application\",\"version\":\"2.4.3\"}};\n",
       "  const render_items = [{\"docid\":\"568aa7fa-235c-4f70-909d-390e03b99d34\",\"root_ids\":[\"1242\"],\"roots\":{\"1242\":\"a139f68e-e7ec-49de-941e-96c510adaf23\"}}];\n",
       "  root.Bokeh.embed.embed_items_notebook(docs_json, render_items);\n",
       "  }\n",
       "  if (root.Bokeh !== undefined) {\n",
       "    embed_document(root);\n",
       "  } else {\n",
       "    let attempts = 0;\n",
       "    const timer = setInterval(function(root) {\n",
       "      if (root.Bokeh !== undefined) {\n",
       "        clearInterval(timer);\n",
       "        embed_document(root);\n",
       "      } else {\n",
       "        attempts++;\n",
       "        if (attempts > 100) {\n",
       "          clearInterval(timer);\n",
       "          console.log(\"Bokeh: ERROR: Unable to run BokehJS code because BokehJS library is missing\");\n",
       "        }\n",
       "      }\n",
       "    }, 10, root)\n",
       "  }\n",
       "})(window);"
      ],
      "application/vnd.bokehjs_exec.v0+json": ""
     },
     "metadata": {
      "application/vnd.bokehjs_exec.v0+json": {
       "id": "1242"
      }
     },
     "output_type": "display_data"
    }
   ],
   "source": [
    "# Criando um novo gráfico\n",
    "output_file(\"Bokeh-Grafico-Barras.html\")\n",
    "\n",
    "fruits = ['Maças', 'Peras', 'Tangerinas', 'Uvas', 'Melancias', 'Morangos']\n",
    "counts = [5, 3, 4, 2, 4, 6]\n",
    "\n",
    "source = ColumnDataSource(data=dict(fruits=fruits, counts=counts))\n",
    "\n",
    "p = figure(x_range=fruits, plot_height=350, toolbar_location=None, title=\"Contagem de Frutas\")\n",
    "\n",
    "p.vbar(x='fruits', \n",
    "       top='counts', \n",
    "       width=0.9, \n",
    "       source=source, \n",
    "       legend_label=\"fruits\",\n",
    "       line_color='white', \n",
    "       fill_color=factor_cmap('fruits', palette=Spectral6, factors=fruits))\n",
    "\n",
    "p.xgrid.grid_line_color = None\n",
    "p.y_range.start = 0\n",
    "p.y_range.end = 9\n",
    "p.legend.orientation = \"horizontal\"\n",
    "p.legend.location = \"top_center\"\n",
    "\n",
    "show(p)"
   ]
  },
  {
   "cell_type": "markdown",
   "id": "dbdfa4e7",
   "metadata": {},
   "source": [
    "# ScatterPlot"
   ]
  },
  {
   "cell_type": "code",
   "execution_count": 11,
   "id": "41cbb0cb",
   "metadata": {},
   "outputs": [
    {
     "data": {
      "text/html": [
       "\n",
       "  <div class=\"bk-root\" id=\"b5dcb5f8-e049-477f-b7d7-4caf2524b5f1\" data-root-id=\"1505\"></div>\n"
      ]
     },
     "metadata": {},
     "output_type": "display_data"
    },
    {
     "data": {
      "application/javascript": [
       "(function(root) {\n",
       "  function embed_document(root) {\n",
       "  const docs_json = {\"b5037d93-b0a8-4b43-ae80-930dd9dc83cc\":{\"defs\":[],\"roots\":{\"references\":[{\"attributes\":{\"below\":[{\"id\":\"1516\"}],\"center\":[{\"id\":\"1519\"},{\"id\":\"1523\"}],\"left\":[{\"id\":\"1520\"}],\"renderers\":[{\"id\":\"1542\"}],\"title\":{\"id\":\"1506\"},\"toolbar\":{\"id\":\"1531\"},\"x_range\":{\"id\":\"1508\"},\"x_scale\":{\"id\":\"1512\"},\"y_range\":{\"id\":\"1510\"},\"y_scale\":{\"id\":\"1514\"}},\"id\":\"1505\",\"subtype\":\"Figure\",\"type\":\"Plot\"},{\"attributes\":{},\"id\":\"1508\",\"type\":\"DataRange1d\"},{\"attributes\":{},\"id\":\"1572\",\"type\":\"UnionRenderers\"},{\"attributes\":{},\"id\":\"1524\",\"type\":\"PanTool\"},{\"attributes\":{\"axis\":{\"id\":\"1520\"},\"coordinates\":null,\"dimension\":1,\"group\":null,\"ticker\":null},\"id\":\"1523\",\"type\":\"Grid\"},{\"attributes\":{},\"id\":\"1525\",\"type\":\"WheelZoomTool\"},{\"attributes\":{},\"id\":\"1573\",\"type\":\"Selection\"},{\"attributes\":{\"fill_alpha\":{\"value\":0.2},\"fill_color\":{\"field\":\"fill_color\"},\"hatch_alpha\":{\"value\":0.2},\"hatch_color\":{\"field\":\"hatch_color\"},\"line_alpha\":{\"value\":0.2},\"line_color\":{\"field\":\"line_color\"},\"size\":{\"value\":10},\"x\":{\"field\":\"x\"},\"y\":{\"field\":\"y\"}},\"id\":\"1541\",\"type\":\"Circle\"},{\"attributes\":{\"overlay\":{\"id\":\"1530\"}},\"id\":\"1526\",\"type\":\"BoxZoomTool\"},{\"attributes\":{\"fill_alpha\":{\"value\":0.1},\"fill_color\":{\"field\":\"fill_color\"},\"hatch_alpha\":{\"value\":0.1},\"hatch_color\":{\"field\":\"hatch_color\"},\"line_alpha\":{\"value\":0.1},\"line_color\":{\"field\":\"line_color\"},\"size\":{\"value\":10},\"x\":{\"field\":\"x\"},\"y\":{\"field\":\"y\"}},\"id\":\"1540\",\"type\":\"Circle\"},{\"attributes\":{},\"id\":\"1510\",\"type\":\"DataRange1d\"},{\"attributes\":{},\"id\":\"1570\",\"type\":\"BasicTickFormatter\"},{\"attributes\":{\"source\":{\"id\":\"1538\"}},\"id\":\"1543\",\"type\":\"CDSView\"},{\"attributes\":{},\"id\":\"1571\",\"type\":\"AllLabels\"},{\"attributes\":{\"coordinates\":null,\"data_source\":{\"id\":\"1538\"},\"glyph\":{\"id\":\"1539\"},\"group\":null,\"hover_glyph\":null,\"muted_glyph\":{\"id\":\"1541\"},\"nonselection_glyph\":{\"id\":\"1540\"},\"view\":{\"id\":\"1543\"}},\"id\":\"1542\",\"type\":\"GlyphRenderer\"},{\"attributes\":{},\"id\":\"1512\",\"type\":\"LinearScale\"},{\"attributes\":{\"axis_label\":\"Petal Width\",\"coordinates\":null,\"formatter\":{\"id\":\"1567\"},\"group\":null,\"major_label_policy\":{\"id\":\"1568\"},\"ticker\":{\"id\":\"1521\"}},\"id\":\"1520\",\"type\":\"LinearAxis\"},{\"attributes\":{\"data\":{\"fill_color\":[\"red\",\"red\",\"red\",\"red\",\"red\",\"red\",\"red\",\"red\",\"red\",\"red\",\"red\",\"red\",\"red\",\"red\",\"red\",\"red\",\"red\",\"red\",\"red\",\"red\",\"red\",\"red\",\"red\",\"red\",\"red\",\"red\",\"red\",\"red\",\"red\",\"red\",\"red\",\"red\",\"red\",\"red\",\"red\",\"red\",\"red\",\"red\",\"red\",\"red\",\"red\",\"red\",\"red\",\"red\",\"red\",\"red\",\"red\",\"red\",\"red\",\"red\",\"green\",\"green\",\"green\",\"green\",\"green\",\"green\",\"green\",\"green\",\"green\",\"green\",\"green\",\"green\",\"green\",\"green\",\"green\",\"green\",\"green\",\"green\",\"green\",\"green\",\"green\",\"green\",\"green\",\"green\",\"green\",\"green\",\"green\",\"green\",\"green\",\"green\",\"green\",\"green\",\"green\",\"green\",\"green\",\"green\",\"green\",\"green\",\"green\",\"green\",\"green\",\"green\",\"green\",\"green\",\"green\",\"green\",\"green\",\"green\",\"green\",\"green\",\"blues\",\"blues\",\"blues\",\"blues\",\"blues\",\"blues\",\"blues\",\"blues\",\"blues\",\"blues\",\"blues\",\"blues\",\"blues\",\"blues\",\"blues\",\"blues\",\"blues\",\"blues\",\"blues\",\"blues\",\"blues\",\"blues\",\"blues\",\"blues\",\"blues\",\"blues\",\"blues\",\"blues\",\"blues\",\"blues\",\"blues\",\"blues\",\"blues\",\"blues\",\"blues\",\"blues\",\"blues\",\"blues\",\"blues\",\"blues\",\"blues\",\"blues\",\"blues\",\"blues\",\"blues\",\"blues\",\"blues\",\"blues\",\"blues\",\"blues\"],\"hatch_color\":[\"red\",\"red\",\"red\",\"red\",\"red\",\"red\",\"red\",\"red\",\"red\",\"red\",\"red\",\"red\",\"red\",\"red\",\"red\",\"red\",\"red\",\"red\",\"red\",\"red\",\"red\",\"red\",\"red\",\"red\",\"red\",\"red\",\"red\",\"red\",\"red\",\"red\",\"red\",\"red\",\"red\",\"red\",\"red\",\"red\",\"red\",\"red\",\"red\",\"red\",\"red\",\"red\",\"red\",\"red\",\"red\",\"red\",\"red\",\"red\",\"red\",\"red\",\"green\",\"green\",\"green\",\"green\",\"green\",\"green\",\"green\",\"green\",\"green\",\"green\",\"green\",\"green\",\"green\",\"green\",\"green\",\"green\",\"green\",\"green\",\"green\",\"green\",\"green\",\"green\",\"green\",\"green\",\"green\",\"green\",\"green\",\"green\",\"green\",\"green\",\"green\",\"green\",\"green\",\"green\",\"green\",\"green\",\"green\",\"green\",\"green\",\"green\",\"green\",\"green\",\"green\",\"green\",\"green\",\"green\",\"green\",\"green\",\"green\",\"green\",\"blues\",\"blues\",\"blues\",\"blues\",\"blues\",\"blues\",\"blues\",\"blues\",\"blues\",\"blues\",\"blues\",\"blues\",\"blues\",\"blues\",\"blues\",\"blues\",\"blues\",\"blues\",\"blues\",\"blues\",\"blues\",\"blues\",\"blues\",\"blues\",\"blues\",\"blues\",\"blues\",\"blues\",\"blues\",\"blues\",\"blues\",\"blues\",\"blues\",\"blues\",\"blues\",\"blues\",\"blues\",\"blues\",\"blues\",\"blues\",\"blues\",\"blues\",\"blues\",\"blues\",\"blues\",\"blues\",\"blues\",\"blues\",\"blues\",\"blues\"],\"line_color\":[\"red\",\"red\",\"red\",\"red\",\"red\",\"red\",\"red\",\"red\",\"red\",\"red\",\"red\",\"red\",\"red\",\"red\",\"red\",\"red\",\"red\",\"red\",\"red\",\"red\",\"red\",\"red\",\"red\",\"red\",\"red\",\"red\",\"red\",\"red\",\"red\",\"red\",\"red\",\"red\",\"red\",\"red\",\"red\",\"red\",\"red\",\"red\",\"red\",\"red\",\"red\",\"red\",\"red\",\"red\",\"red\",\"red\",\"red\",\"red\",\"red\",\"red\",\"green\",\"green\",\"green\",\"green\",\"green\",\"green\",\"green\",\"green\",\"green\",\"green\",\"green\",\"green\",\"green\",\"green\",\"green\",\"green\",\"green\",\"green\",\"green\",\"green\",\"green\",\"green\",\"green\",\"green\",\"green\",\"green\",\"green\",\"green\",\"green\",\"green\",\"green\",\"green\",\"green\",\"green\",\"green\",\"green\",\"green\",\"green\",\"green\",\"green\",\"green\",\"green\",\"green\",\"green\",\"green\",\"green\",\"green\",\"green\",\"green\",\"green\",\"blues\",\"blues\",\"blues\",\"blues\",\"blues\",\"blues\",\"blues\",\"blues\",\"blues\",\"blues\",\"blues\",\"blues\",\"blues\",\"blues\",\"blues\",\"blues\",\"blues\",\"blues\",\"blues\",\"blues\",\"blues\",\"blues\",\"blues\",\"blues\",\"blues\",\"blues\",\"blues\",\"blues\",\"blues\",\"blues\",\"blues\",\"blues\",\"blues\",\"blues\",\"blues\",\"blues\",\"blues\",\"blues\",\"blues\",\"blues\",\"blues\",\"blues\",\"blues\",\"blues\",\"blues\",\"blues\",\"blues\",\"blues\",\"blues\",\"blues\"],\"x\":{\"__ndarray__\":\"ZmZmZmZm9j9mZmZmZmb2P83MzMzMzPQ/AAAAAAAA+D9mZmZmZmb2PzMzMzMzM/s/ZmZmZmZm9j8AAAAAAAD4P2ZmZmZmZvY/AAAAAAAA+D8AAAAAAAD4P5qZmZmZmfk/ZmZmZmZm9j+amZmZmZnxPzMzMzMzM/M/AAAAAAAA+D/NzMzMzMz0P2ZmZmZmZvY/MzMzMzMz+z8AAAAAAAD4PzMzMzMzM/s/AAAAAAAA+D8AAAAAAADwPzMzMzMzM/s/ZmZmZmZm/j+amZmZmZn5P5qZmZmZmfk/AAAAAAAA+D9mZmZmZmb2P5qZmZmZmfk/mpmZmZmZ+T8AAAAAAAD4PwAAAAAAAPg/ZmZmZmZm9j8AAAAAAAD4PzMzMzMzM/M/zczMzMzM9D9mZmZmZmb2P83MzMzMzPQ/AAAAAAAA+D/NzMzMzMz0P83MzMzMzPQ/zczMzMzM9D+amZmZmZn5P2ZmZmZmZv4/ZmZmZmZm9j+amZmZmZn5P2ZmZmZmZvY/AAAAAAAA+D9mZmZmZmb2P83MzMzMzBJAAAAAAAAAEkCamZmZmZkTQAAAAAAAABBAZmZmZmZmEkAAAAAAAAASQM3MzMzMzBJAZmZmZmZmCkBmZmZmZmYSQDMzMzMzMw9AAAAAAAAADEDNzMzMzMwQQAAAAAAAABBAzczMzMzMEkDNzMzMzMwMQJqZmZmZmRFAAAAAAAAAEkBmZmZmZmYQQAAAAAAAABJAMzMzMzMzD0AzMzMzMzMTQAAAAAAAABBAmpmZmZmZE0DNzMzMzMwSQDMzMzMzMxFAmpmZmZmZEUAzMzMzMzMTQAAAAAAAABRAAAAAAAAAEkAAAAAAAAAMQGZmZmZmZg5AmpmZmZmZDUAzMzMzMzMPQGZmZmZmZhRAAAAAAAAAEkAAAAAAAAASQM3MzMzMzBJAmpmZmZmZEUBmZmZmZmYQQAAAAAAAABBAmpmZmZmZEUBmZmZmZmYSQAAAAAAAABBAZmZmZmZmCkDNzMzMzMwQQM3MzMzMzBBAzczMzMzMEEAzMzMzMzMRQAAAAAAAAAhAZmZmZmZmEEAAAAAAAAAYQGZmZmZmZhRAmpmZmZmZF0BmZmZmZmYWQDMzMzMzMxdAZmZmZmZmGkAAAAAAAAASQDMzMzMzMxlAMzMzMzMzF0BmZmZmZmYYQGZmZmZmZhRAMzMzMzMzFUAAAAAAAAAWQAAAAAAAABRAZmZmZmZmFEAzMzMzMzMVQAAAAAAAABZAzczMzMzMGkCamZmZmZkbQAAAAAAAABRAzczMzMzMFkCamZmZmZkTQM3MzMzMzBpAmpmZmZmZE0DNzMzMzMwWQAAAAAAAABhAMzMzMzMzE0CamZmZmZkTQGZmZmZmZhZAMzMzMzMzF0BmZmZmZmYYQJqZmZmZmRlAZmZmZmZmFkBmZmZmZmYUQGZmZmZmZhZAZmZmZmZmGEBmZmZmZmYWQAAAAAAAABZAMzMzMzMzE0CamZmZmZkVQGZmZmZmZhZAZmZmZmZmFEBmZmZmZmYUQJqZmZmZmRdAzczMzMzMFkDNzMzMzMwUQAAAAAAAABRAzczMzMzMFECamZmZmZkVQGZmZmZmZhRA\",\"dtype\":\"float64\",\"order\":\"little\",\"shape\":[150]},\"y\":{\"__ndarray__\":\"mpmZmZmZyT+amZmZmZnJP5qZmZmZmck/mpmZmZmZyT+amZmZmZnJP5qZmZmZmdk/MzMzMzMz0z+amZmZmZnJP5qZmZmZmck/mpmZmZmZuT+amZmZmZnJP5qZmZmZmck/mpmZmZmZuT+amZmZmZm5P5qZmZmZmck/mpmZmZmZ2T+amZmZmZnZPzMzMzMzM9M/MzMzMzMz0z8zMzMzMzPTP5qZmZmZmck/mpmZmZmZ2T+amZmZmZnJPwAAAAAAAOA/mpmZmZmZyT+amZmZmZnJP5qZmZmZmdk/mpmZmZmZyT+amZmZmZnJP5qZmZmZmck/mpmZmZmZyT+amZmZmZnZP5qZmZmZmbk/mpmZmZmZyT+amZmZmZnJP5qZmZmZmck/mpmZmZmZyT+amZmZmZm5P5qZmZmZmck/mpmZmZmZyT8zMzMzMzPTPzMzMzMzM9M/mpmZmZmZyT8zMzMzMzPjP5qZmZmZmdk/MzMzMzMz0z+amZmZmZnJP5qZmZmZmck/mpmZmZmZyT+amZmZmZnJP2ZmZmZmZvY/AAAAAAAA+D8AAAAAAAD4P83MzMzMzPQ/AAAAAAAA+D/NzMzMzMz0P5qZmZmZmfk/AAAAAAAA8D/NzMzMzMz0P2ZmZmZmZvY/AAAAAAAA8D8AAAAAAAD4PwAAAAAAAPA/ZmZmZmZm9j/NzMzMzMz0P2ZmZmZmZvY/AAAAAAAA+D8AAAAAAADwPwAAAAAAAPg/mpmZmZmZ8T/NzMzMzMz8P83MzMzMzPQ/AAAAAAAA+D8zMzMzMzPzP83MzMzMzPQ/ZmZmZmZm9j9mZmZmZmb2PzMzMzMzM/s/AAAAAAAA+D8AAAAAAADwP5qZmZmZmfE/AAAAAAAA8D8zMzMzMzPzP5qZmZmZmfk/AAAAAAAA+D+amZmZmZn5PwAAAAAAAPg/zczMzMzM9D/NzMzMzMz0P83MzMzMzPQ/MzMzMzMz8z9mZmZmZmb2PzMzMzMzM/M/AAAAAAAA8D/NzMzMzMz0PzMzMzMzM/M/zczMzMzM9D/NzMzMzMz0P5qZmZmZmfE/zczMzMzM9D8AAAAAAAAEQGZmZmZmZv4/zczMzMzMAEDNzMzMzMz8P5qZmZmZmQFAzczMzMzMAEAzMzMzMzP7P83MzMzMzPw/zczMzMzM/D8AAAAAAAAEQAAAAAAAAABAZmZmZmZm/j/NzMzMzMwAQAAAAAAAAABAMzMzMzMzA0BmZmZmZmYCQM3MzMzMzPw/mpmZmZmZAUBmZmZmZmYCQAAAAAAAAPg/ZmZmZmZmAkAAAAAAAAAAQAAAAAAAAABAzczMzMzM/D/NzMzMzMwAQM3MzMzMzPw/zczMzMzM/D/NzMzMzMz8P83MzMzMzABAmpmZmZmZ+T9mZmZmZmb+PwAAAAAAAABAmpmZmZmZAUAAAAAAAAD4P2ZmZmZmZvY/ZmZmZmZmAkAzMzMzMzMDQM3MzMzMzPw/zczMzMzM/D/NzMzMzMwAQDMzMzMzMwNAZmZmZmZmAkBmZmZmZmb+P2ZmZmZmZgJAAAAAAAAABEBmZmZmZmYCQGZmZmZmZv4/AAAAAAAAAEBmZmZmZmYCQM3MzMzMzPw/\",\"dtype\":\"float64\",\"order\":\"little\",\"shape\":[150]}},\"selected\":{\"id\":\"1573\"},\"selection_policy\":{\"id\":\"1572\"}},\"id\":\"1538\",\"type\":\"ColumnDataSource\"},{\"attributes\":{\"coordinates\":null,\"group\":null,\"text\":\"Iris Morphology\"},\"id\":\"1506\",\"type\":\"Title\"},{\"attributes\":{},\"id\":\"1517\",\"type\":\"BasicTicker\"},{\"attributes\":{\"fill_alpha\":{\"value\":0.2},\"fill_color\":{\"field\":\"fill_color\"},\"hatch_color\":{\"field\":\"hatch_color\"},\"line_color\":{\"field\":\"line_color\"},\"size\":{\"value\":10},\"x\":{\"field\":\"x\"},\"y\":{\"field\":\"y\"}},\"id\":\"1539\",\"type\":\"Circle\"},{\"attributes\":{\"axis\":{\"id\":\"1516\"},\"coordinates\":null,\"group\":null,\"ticker\":null},\"id\":\"1519\",\"type\":\"Grid\"},{\"attributes\":{},\"id\":\"1527\",\"type\":\"SaveTool\"},{\"attributes\":{},\"id\":\"1529\",\"type\":\"HelpTool\"},{\"attributes\":{\"bottom_units\":\"screen\",\"coordinates\":null,\"fill_alpha\":0.5,\"fill_color\":\"lightgrey\",\"group\":null,\"left_units\":\"screen\",\"level\":\"overlay\",\"line_alpha\":1.0,\"line_color\":\"black\",\"line_dash\":[4,4],\"line_width\":2,\"right_units\":\"screen\",\"syncable\":false,\"top_units\":\"screen\"},\"id\":\"1530\",\"type\":\"BoxAnnotation\"},{\"attributes\":{\"tools\":[{\"id\":\"1524\"},{\"id\":\"1525\"},{\"id\":\"1526\"},{\"id\":\"1527\"},{\"id\":\"1528\"},{\"id\":\"1529\"}]},\"id\":\"1531\",\"type\":\"Toolbar\"},{\"attributes\":{},\"id\":\"1521\",\"type\":\"BasicTicker\"},{\"attributes\":{},\"id\":\"1568\",\"type\":\"AllLabels\"},{\"attributes\":{},\"id\":\"1528\",\"type\":\"ResetTool\"},{\"attributes\":{},\"id\":\"1567\",\"type\":\"BasicTickFormatter\"},{\"attributes\":{},\"id\":\"1514\",\"type\":\"LinearScale\"},{\"attributes\":{\"axis_label\":\"Petal Length\",\"coordinates\":null,\"formatter\":{\"id\":\"1570\"},\"group\":null,\"major_label_policy\":{\"id\":\"1571\"},\"ticker\":{\"id\":\"1517\"}},\"id\":\"1516\",\"type\":\"LinearAxis\"}],\"root_ids\":[\"1505\"]},\"title\":\"Bokeh Application\",\"version\":\"2.4.3\"}};\n",
       "  const render_items = [{\"docid\":\"b5037d93-b0a8-4b43-ae80-930dd9dc83cc\",\"root_ids\":[\"1505\"],\"roots\":{\"1505\":\"b5dcb5f8-e049-477f-b7d7-4caf2524b5f1\"}}];\n",
       "  root.Bokeh.embed.embed_items_notebook(docs_json, render_items);\n",
       "  }\n",
       "  if (root.Bokeh !== undefined) {\n",
       "    embed_document(root);\n",
       "  } else {\n",
       "    let attempts = 0;\n",
       "    const timer = setInterval(function(root) {\n",
       "      if (root.Bokeh !== undefined) {\n",
       "        clearInterval(timer);\n",
       "        embed_document(root);\n",
       "      } else {\n",
       "        attempts++;\n",
       "        if (attempts > 100) {\n",
       "          clearInterval(timer);\n",
       "          console.log(\"Bokeh: ERROR: Unable to run BokehJS code because BokehJS library is missing\");\n",
       "        }\n",
       "      }\n",
       "    }, 10, root)\n",
       "  }\n",
       "})(window);"
      ],
      "application/vnd.bokehjs_exec.v0+json": ""
     },
     "metadata": {
      "application/vnd.bokehjs_exec.v0+json": {
       "id": "1505"
      }
     },
     "output_type": "display_data"
    }
   ],
   "source": [
    "# Construindo um ScatterPlot\n",
    "from bokeh.plotting import figure, show, output_file\n",
    "from bokeh.sampledata.iris import flowers \n",
    "\n",
    "colormap = {'setosa': 'red', 'versicolor': 'green', 'virginica': 'blues'}\n",
    "colors = [colormap[x] for x in flowers['species']]\n",
    "\n",
    "p = figure(title = \"Iris Morphology\")\n",
    "p.xaxis.axis_label = \"Petal Length\"\n",
    "p.yaxis.axis_label = 'Petal Width'\n",
    "\n",
    "p.circle(flowers[\"petal_length\"], flowers[\"petal_width\"], color=colors, fill_alpha=0.2, size=10)\n",
    "output_file(\"Bokeh_grafico_Iris.html\", title=\"irirs.py example\")\n",
    "\n",
    "show(p)"
   ]
  },
  {
   "cell_type": "markdown",
   "id": "b32f74f4",
   "metadata": {},
   "source": [
    "# Grafico de Circulos "
   ]
  },
  {
   "cell_type": "code",
   "execution_count": 12,
   "id": "581cdcc6",
   "metadata": {},
   "outputs": [
    {
     "data": {
      "text/html": [
       "\n",
       "  <div class=\"bk-root\" id=\"27283ebd-7b13-46b8-8d99-0e438d6f927d\" data-root-id=\"1766\"></div>\n"
      ]
     },
     "metadata": {},
     "output_type": "display_data"
    },
    {
     "data": {
      "application/javascript": [
       "(function(root) {\n",
       "  function embed_document(root) {\n",
       "  const docs_json = {\"4f430ae8-4f12-4031-97cf-9b46895ff1a1\":{\"defs\":[],\"roots\":{\"references\":[{\"attributes\":{\"below\":[{\"id\":\"1775\"}],\"center\":[{\"id\":\"1778\"},{\"id\":\"1782\"}],\"height\":400,\"left\":[{\"id\":\"1779\"}],\"renderers\":[{\"id\":\"1801\"}],\"title\":{\"id\":\"1834\"},\"toolbar\":{\"id\":\"1790\"},\"width\":400,\"x_range\":{\"id\":\"1767\"},\"x_scale\":{\"id\":\"1771\"},\"y_range\":{\"id\":\"1769\"},\"y_scale\":{\"id\":\"1773\"}},\"id\":\"1766\",\"subtype\":\"Figure\",\"type\":\"Plot\"},{\"attributes\":{},\"id\":\"1773\",\"type\":\"LinearScale\"},{\"attributes\":{},\"id\":\"1784\",\"type\":\"WheelZoomTool\"},{\"attributes\":{\"coordinates\":null,\"formatter\":{\"id\":\"1840\"},\"group\":null,\"major_label_policy\":{\"id\":\"1841\"},\"ticker\":{\"id\":\"1776\"}},\"id\":\"1775\",\"type\":\"LinearAxis\"},{\"attributes\":{\"fill_alpha\":{\"value\":0.2},\"fill_color\":{\"value\":\"navy\"},\"hatch_alpha\":{\"value\":0.2},\"hatch_color\":{\"value\":\"navy\"},\"line_alpha\":{\"value\":0.2},\"line_color\":{\"value\":\"navy\"},\"size\":{\"value\":20},\"x\":{\"field\":\"x\"},\"y\":{\"field\":\"y\"}},\"id\":\"1800\",\"type\":\"Circle\"},{\"attributes\":{},\"id\":\"1786\",\"type\":\"SaveTool\"},{\"attributes\":{\"coordinates\":null,\"data_source\":{\"id\":\"1797\"},\"glyph\":{\"id\":\"1798\"},\"group\":null,\"hover_glyph\":null,\"muted_glyph\":{\"id\":\"1800\"},\"nonselection_glyph\":{\"id\":\"1799\"},\"view\":{\"id\":\"1802\"}},\"id\":\"1801\",\"type\":\"GlyphRenderer\"},{\"attributes\":{\"axis\":{\"id\":\"1779\"},\"coordinates\":null,\"dimension\":1,\"group\":null,\"ticker\":null},\"id\":\"1782\",\"type\":\"Grid\"},{\"attributes\":{},\"id\":\"1837\",\"type\":\"BasicTickFormatter\"},{\"attributes\":{\"coordinates\":null,\"formatter\":{\"id\":\"1837\"},\"group\":null,\"major_label_policy\":{\"id\":\"1838\"},\"ticker\":{\"id\":\"1780\"}},\"id\":\"1779\",\"type\":\"LinearAxis\"},{\"attributes\":{\"fill_alpha\":{\"value\":0.5},\"fill_color\":{\"value\":\"navy\"},\"hatch_alpha\":{\"value\":0.5},\"hatch_color\":{\"value\":\"navy\"},\"line_alpha\":{\"value\":0.5},\"line_color\":{\"value\":\"navy\"},\"size\":{\"value\":20},\"x\":{\"field\":\"x\"},\"y\":{\"field\":\"y\"}},\"id\":\"1798\",\"type\":\"Circle\"},{\"attributes\":{},\"id\":\"1838\",\"type\":\"AllLabels\"},{\"attributes\":{},\"id\":\"1787\",\"type\":\"ResetTool\"},{\"attributes\":{\"source\":{\"id\":\"1797\"}},\"id\":\"1802\",\"type\":\"CDSView\"},{\"attributes\":{\"overlay\":{\"id\":\"1789\"}},\"id\":\"1785\",\"type\":\"BoxZoomTool\"},{\"attributes\":{\"fill_alpha\":{\"value\":0.1},\"fill_color\":{\"value\":\"navy\"},\"hatch_alpha\":{\"value\":0.1},\"hatch_color\":{\"value\":\"navy\"},\"line_alpha\":{\"value\":0.1},\"line_color\":{\"value\":\"navy\"},\"size\":{\"value\":20},\"x\":{\"field\":\"x\"},\"y\":{\"field\":\"y\"}},\"id\":\"1799\",\"type\":\"Circle\"},{\"attributes\":{},\"id\":\"1783\",\"type\":\"PanTool\"},{\"attributes\":{},\"id\":\"1840\",\"type\":\"BasicTickFormatter\"},{\"attributes\":{\"tools\":[{\"id\":\"1783\"},{\"id\":\"1784\"},{\"id\":\"1785\"},{\"id\":\"1786\"},{\"id\":\"1787\"},{\"id\":\"1788\"}]},\"id\":\"1790\",\"type\":\"Toolbar\"},{\"attributes\":{},\"id\":\"1841\",\"type\":\"AllLabels\"},{\"attributes\":{},\"id\":\"1776\",\"type\":\"BasicTicker\"},{\"attributes\":{\"coordinates\":null,\"group\":null},\"id\":\"1834\",\"type\":\"Title\"},{\"attributes\":{\"axis\":{\"id\":\"1775\"},\"coordinates\":null,\"group\":null,\"ticker\":null},\"id\":\"1778\",\"type\":\"Grid\"},{\"attributes\":{\"data\":{\"x\":[1,2,3,4,5],\"y\":[6,7,2,4,5]},\"selected\":{\"id\":\"1843\"},\"selection_policy\":{\"id\":\"1842\"}},\"id\":\"1797\",\"type\":\"ColumnDataSource\"},{\"attributes\":{},\"id\":\"1771\",\"type\":\"LinearScale\"},{\"attributes\":{\"bottom_units\":\"screen\",\"coordinates\":null,\"fill_alpha\":0.5,\"fill_color\":\"lightgrey\",\"group\":null,\"left_units\":\"screen\",\"level\":\"overlay\",\"line_alpha\":1.0,\"line_color\":\"black\",\"line_dash\":[4,4],\"line_width\":2,\"right_units\":\"screen\",\"syncable\":false,\"top_units\":\"screen\"},\"id\":\"1789\",\"type\":\"BoxAnnotation\"},{\"attributes\":{},\"id\":\"1769\",\"type\":\"DataRange1d\"},{\"attributes\":{},\"id\":\"1842\",\"type\":\"UnionRenderers\"},{\"attributes\":{},\"id\":\"1843\",\"type\":\"Selection\"},{\"attributes\":{},\"id\":\"1788\",\"type\":\"HelpTool\"},{\"attributes\":{},\"id\":\"1767\",\"type\":\"DataRange1d\"},{\"attributes\":{},\"id\":\"1780\",\"type\":\"BasicTicker\"}],\"root_ids\":[\"1766\"]},\"title\":\"Bokeh Application\",\"version\":\"2.4.3\"}};\n",
       "  const render_items = [{\"docid\":\"4f430ae8-4f12-4031-97cf-9b46895ff1a1\",\"root_ids\":[\"1766\"],\"roots\":{\"1766\":\"27283ebd-7b13-46b8-8d99-0e438d6f927d\"}}];\n",
       "  root.Bokeh.embed.embed_items_notebook(docs_json, render_items);\n",
       "  }\n",
       "  if (root.Bokeh !== undefined) {\n",
       "    embed_document(root);\n",
       "  } else {\n",
       "    let attempts = 0;\n",
       "    const timer = setInterval(function(root) {\n",
       "      if (root.Bokeh !== undefined) {\n",
       "        clearInterval(timer);\n",
       "        embed_document(root);\n",
       "      } else {\n",
       "        attempts++;\n",
       "        if (attempts > 100) {\n",
       "          clearInterval(timer);\n",
       "          console.log(\"Bokeh: ERROR: Unable to run BokehJS code because BokehJS library is missing\");\n",
       "        }\n",
       "      }\n",
       "    }, 10, root)\n",
       "  }\n",
       "})(window);"
      ],
      "application/vnd.bokehjs_exec.v0+json": ""
     },
     "metadata": {
      "application/vnd.bokehjs_exec.v0+json": {
       "id": "1766"
      }
     },
     "output_type": "display_data"
    }
   ],
   "source": [
    "from bokeh.plotting import figure, output_file, show \n",
    "\n",
    "# Output\n",
    "output_file(\"Bokeh-Grafico-Circulos.html\")\n",
    "\n",
    "p = figure(plot_width = 400, plot_height = 400)\n",
    "\n",
    "# Adicionando circulos ao grafico \n",
    "p.circle([1, 2, 3, 4, 5], [6, 7, 2, 4, 5], size = 20, color = \"navy\", alpha = 0.5)\n",
    "\n",
    "# Mostrando o resultado\n",
    "show(p)"
   ]
  },
  {
   "cell_type": "markdown",
   "id": "4f350141",
   "metadata": {},
   "source": [
    "# Grafico com dados Geofisicos"
   ]
  },
  {
   "cell_type": "code",
   "execution_count": 13,
   "id": "bd063037",
   "metadata": {},
   "outputs": [
    {
     "data": {
      "text/html": [
       "\n",
       "  <div class=\"bk-root\" id=\"f46d9bf4-d5e5-4ed0-a5bc-9d675b831c47\" data-root-id=\"2056\"></div>\n"
      ]
     },
     "metadata": {},
     "output_type": "display_data"
    },
    {
     "data": {
      "application/javascript": [
       "(function(root) {\n",
       "  function embed_document(root) {\n",
       "  const docs_json = {\"f22c1d9c-b007-4557-b8ee-4c99002ec1b9\":{\"defs\":[],\"roots\":{\"references\":[{\"attributes\":{\"below\":[{\"id\":\"2065\"}],\"center\":[{\"id\":\"2068\"},{\"id\":\"2072\"}],\"left\":[{\"id\":\"2069\"}],\"renderers\":[{\"id\":\"2091\"}],\"title\":{\"id\":\"2135\"},\"toolbar\":{\"id\":\"2080\"},\"x_range\":{\"id\":\"2057\"},\"x_scale\":{\"id\":\"2061\"},\"y_range\":{\"id\":\"2059\"},\"y_scale\":{\"id\":\"2063\"}},\"id\":\"2056\",\"subtype\":\"Figure\",\"type\":\"Plot\"},{\"attributes\":{\"source\":{\"id\":\"2055\"}},\"id\":\"2092\",\"type\":\"CDSView\"},{\"attributes\":{},\"id\":\"2139\",\"type\":\"AllLabels\"},{\"attributes\":{},\"id\":\"2141\",\"type\":\"BasicTickFormatter\"},{\"attributes\":{\"coordinates\":null,\"formatter\":{\"id\":\"2141\"},\"group\":null,\"major_label_policy\":{\"id\":\"2142\"},\"ticker\":{\"id\":\"2066\"}},\"id\":\"2065\",\"type\":\"LinearAxis\"},{\"attributes\":{\"geojson\":\"{\\\"type\\\":\\\"FeatureCollection\\\",\\\"features\\\":[{\\\"type\\\":\\\"Feature\\\",\\\"id\\\":\\\"463098\\\",\\\"geometry\\\":{\\\"type\\\":\\\"Point\\\",\\\"coordinates\\\":[-2.1208465099334717,51.4613151550293]},\\\"properties\\\":{\\\"OrganisationCode\\\":\\\"Q64\\\",\\\"OrganisationType\\\":\\\"Area Team\\\",\\\"SubType\\\":\\\"UNKNOWN\\\",\\\"OrganisationStatus\\\":\\\"Visible\\\",\\\"IsPimsManaged\\\":\\\"True\\\",\\\"OrganisationName\\\":\\\"Bath, Gloucestershire, Swindon And Wiltshire Area Team\\\",\\\"Address1\\\":\\\"1st Floor\\\",\\\"Address2\\\":\\\"Bewley House\\\",\\\"Address3\\\":\\\"Marshfield Road\\\",\\\"City\\\":\\\"Chippenham\\\",\\\"County\\\":\\\"Wiltshire\\\",\\\"Postcode\\\":\\\"SN15 1JW\\\",\\\"Phone\\\":\\\"0113 8251 500\\\",\\\"Email\\\":\\\"england.contactus@nhs.net\\\",\\\"Website\\\":\\\"http://www.england.nhs.uk/south/south/bgsw-at/\\\"}},{\\\"type\\\":\\\"Feature\\\",\\\"id\\\":\\\"463099\\\",\\\"geometry\\\":{\\\"type\\\":\\\"Point\\\",\\\"coordinates\\\":[-2.5929524898529053,51.459877014160156]},\\\"properties\\\":{\\\"OrganisationCode\\\":\\\"Q65\\\",\\\"OrganisationType\\\":\\\"Area Team\\\",\\\"SubType\\\":\\\"UNKNOWN\\\",\\\"OrganisationStatus\\\":\\\"Visible\\\",\\\"IsPimsManaged\\\":\\\"True\\\",\\\"OrganisationName\\\":\\\"Bristol, North Somerset, Somerset And South Gloucestershire Area Team\\\",\\\"Address1\\\":\\\"South Plaza\\\",\\\"Address3\\\":\\\"Marlborough Street\\\",\\\"City\\\":\\\"Bristol\\\",\\\"County\\\":\\\"Somerset\\\",\\\"Postcode\\\":\\\"BS1 3NX\\\",\\\"Phone\\\":\\\"0117 976 6600\\\",\\\"Email\\\":\\\"england.contactus@nhs.net\\\",\\\"Website\\\":\\\"http://www.england.nhs.uk/south/south/bnsssg-at/\\\"}},{\\\"type\\\":\\\"Feature\\\",\\\"id\\\":\\\"463100\\\",\\\"geometry\\\":{\\\"type\\\":\\\"Point\\\",\\\"coordinates\\\":[-4.232546806335449,50.42112731933594]},\\\"properties\\\":{\\\"OrganisationCode\\\":\\\"Q66\\\",\\\"OrganisationType\\\":\\\"Area Team\\\",\\\"SubType\\\":\\\"UNKNOWN\\\",\\\"OrganisationStatus\\\":\\\"Visible\\\",\\\"IsPimsManaged\\\":\\\"True\\\",\\\"OrganisationName\\\":\\\"Devon, Cornwall And Isles Of Scilly Area Team\\\",\\\"Address1\\\":\\\"Peninsula House\\\",\\\"Address2\\\":\\\"Kingsmill Road\\\",\\\"Address3\\\":\\\"Tamar View Industrial Estate\\\",\\\"City\\\":\\\"Cornwall\\\",\\\"County\\\":\\\"Cornwall\\\",\\\"Postcode\\\":\\\"PL12 6LE\\\",\\\"Phone\\\":\\\"01752 679250\\\",\\\"Email\\\":\\\"england.contactus@nhs.net\\\",\\\"Website\\\":\\\"http://www.england.nhs.uk/south/south/dcis-at/\\\"}},{\\\"type\\\":\\\"Feature\\\",\\\"id\\\":\\\"463101\\\",\\\"geometry\\\":{\\\"type\\\":\\\"Point\\\",\\\"coordinates\\\":[0.27698493003845215,51.193748474121094]},\\\"properties\\\":{\\\"OrganisationCode\\\":\\\"Q67\\\",\\\"OrganisationType\\\":\\\"Area Team\\\",\\\"SubType\\\":\\\"UNKNOWN\\\",\\\"OrganisationStatus\\\":\\\"Visible\\\",\\\"IsPimsManaged\\\":\\\"True\\\",\\\"OrganisationName\\\":\\\"Kent And Medway Area Team\\\",\\\"Address1\\\":\\\"Wharf House\\\",\\\"Address2\\\":\\\"Medway Wharf Road\\\",\\\"City\\\":\\\"Tonbridge\\\",\\\"County\\\":\\\"Kent\\\",\\\"Postcode\\\":\\\"TN9 1RE\\\",\\\"Phone\\\":\\\"01732 375200\\\",\\\"Email\\\":\\\"england.kentandmedwaybusinessoffice@nhs.net\\\",\\\"Website\\\":\\\"http://www.england.nhs.uk/south/south/km-at/\\\"}},{\\\"type\\\":\\\"Feature\\\",\\\"id\\\":\\\"463102\\\",\\\"geometry\\\":{\\\"type\\\":\\\"Point\\\",\\\"coordinates\\\":[-0.1647440642118454,51.170936584472656]},\\\"properties\\\":{\\\"OrganisationCode\\\":\\\"Q68\\\",\\\"OrganisationType\\\":\\\"Area Team\\\",\\\"SubType\\\":\\\"UNKNOWN\\\",\\\"OrganisationStatus\\\":\\\"Visible\\\",\\\"IsPimsManaged\\\":\\\"True\\\",\\\"OrganisationName\\\":\\\"Surrey And Sussex Area Team\\\",\\\"Address1\\\":\\\"York House\\\",\\\"Address2\\\":\\\"18-20 Massetts Road\\\",\\\"City\\\":\\\"Horley\\\",\\\"County\\\":\\\"Surrey\\\",\\\"Postcode\\\":\\\"RH6 7DE\\\",\\\"Phone\\\":\\\"01293 778899\\\",\\\"Email\\\":\\\"england.surreyandsussex-businessoffice@nhs.net\\\",\\\"Website\\\":\\\"http://www.england.nhs.uk/south/south/ss-at/\\\"}},{\\\"type\\\":\\\"Feature\\\",\\\"id\\\":\\\"463103\\\",\\\"geometry\\\":{\\\"type\\\":\\\"Point\\\",\\\"coordinates\\\":[-1.2079498767852783,51.72844696044922]},\\\"properties\\\":{\\\"OrganisationCode\\\":\\\"Q69\\\",\\\"OrganisationType\\\":\\\"Area Team\\\",\\\"SubType\\\":\\\"UNKNOWN\\\",\\\"OrganisationStatus\\\":\\\"Visible\\\",\\\"IsPimsManaged\\\":\\\"True\\\",\\\"OrganisationName\\\":\\\"Thames Valley Area Team\\\",\\\"Address1\\\":\\\"Jubilee House\\\",\\\"Address2\\\":\\\"5510 John Smith Drive\\\",\\\"Address3\\\":\\\"Oxford Business Park South\\\",\\\"City\\\":\\\"Cowley\\\",\\\"County\\\":\\\"Oxfordshire\\\",\\\"Postcode\\\":\\\"OX4 2LH\\\",\\\"Phone\\\":\\\"01865 963800\\\",\\\"Email\\\":\\\"england.contactus@nhs.net\\\",\\\"Website\\\":\\\"http://www.england.nhs.uk/south/south/tv-at/\\\"}},{\\\"type\\\":\\\"Feature\\\",\\\"id\\\":\\\"463104\\\",\\\"geometry\\\":{\\\"type\\\":\\\"Point\\\",\\\"coordinates\\\":[-1.4493359327316284,50.92325973510742]},\\\"properties\\\":{\\\"OrganisationCode\\\":\\\"Q70\\\",\\\"OrganisationType\\\":\\\"Area Team\\\",\\\"SubType\\\":\\\"UNKNOWN\\\",\\\"OrganisationStatus\\\":\\\"Visible\\\",\\\"IsPimsManaged\\\":\\\"True\\\",\\\"OrganisationName\\\":\\\"Wessex Area Team\\\",\\\"Address2\\\":\\\"Oakley Road\\\",\\\"City\\\":\\\"Southampton\\\",\\\"County\\\":\\\"Hampshire\\\",\\\"Postcode\\\":\\\"SO16 4GX\\\",\\\"Phone\\\":\\\"023 8029 6914\\\",\\\"Email\\\":\\\"england.wessexpatientexperience@nhs.net\\\",\\\"Website\\\":\\\"http://www.england.nhs.uk/south/south/w-at/\\\"}},{\\\"type\\\":\\\"Feature\\\",\\\"id\\\":\\\"463105\\\",\\\"geometry\\\":{\\\"type\\\":\\\"Point\\\",\\\"coordinates\\\":[-0.13727261126041412,51.49694061279297]},\\\"properties\\\":{\\\"OrganisationCode\\\":\\\"Q71\\\",\\\"OrganisationType\\\":\\\"Area Team\\\",\\\"SubType\\\":\\\"UNKNOWN\\\",\\\"OrganisationStatus\\\":\\\"Visible\\\",\\\"IsPimsManaged\\\":\\\"True\\\",\\\"OrganisationName\\\":\\\"London Area Team\\\",\\\"Address2\\\":\\\"2nd Floor, Southside\\\",\\\"Address3\\\":\\\"105 Victoria Street\\\",\\\"City\\\":\\\"London\\\",\\\"Postcode\\\":\\\"SW1E 6QT\\\",\\\"Phone\\\":\\\"0207 932 3700\\\",\\\"Email\\\":\\\"england.contactus@nhs.net\\\",\\\"Website\\\":\\\"http://www.england.nhs.uk/london/\\\"}},{\\\"type\\\":\\\"Feature\\\",\\\"id\\\":\\\"463120\\\",\\\"geometry\\\":{\\\"type\\\":\\\"Point\\\",\\\"coordinates\\\":[-2.5846381187438965,53.37392807006836]},\\\"properties\\\":{\\\"OrganisationCode\\\":\\\"Q44\\\",\\\"OrganisationType\\\":\\\"Area Team\\\",\\\"SubType\\\":\\\"UNKNOWN\\\",\\\"OrganisationStatus\\\":\\\"Visible\\\",\\\"IsPimsManaged\\\":\\\"True\\\",\\\"OrganisationName\\\":\\\"Cheshire, Warrington And Wirral Area Team\\\",\\\"Address1\\\":\\\"NHS Quayside (NHS North West)\\\",\\\"Address2\\\":\\\"Wilderspool Park\\\",\\\"Address3\\\":\\\"Greensall Avenue\\\",\\\"City\\\":\\\"Warrington\\\",\\\"County\\\":\\\"Cheshire\\\",\\\"Postcode\\\":\\\"WA4 6HL\\\",\\\"Phone\\\":\\\"01925 406000\\\",\\\"Email\\\":\\\"england.contactus@nhs.net\\\",\\\"Website\\\":\\\"http://www.england.nhs.uk/north/north/cww-at/\\\"}},{\\\"type\\\":\\\"Feature\\\",\\\"id\\\":\\\"463121\\\",\\\"geometry\\\":{\\\"type\\\":\\\"Point\\\",\\\"coordinates\\\":[-1.5323498249053955,53.79779815673828]},\\\"properties\\\":{\\\"OrganisationCode\\\":\\\"Q45\\\",\\\"OrganisationType\\\":\\\"Area Team\\\",\\\"SubType\\\":\\\"UNKNOWN\\\",\\\"OrganisationStatus\\\":\\\"Visible\\\",\\\"IsPimsManaged\\\":\\\"True\\\",\\\"OrganisationName\\\":\\\"Durham, Darlington And Tees Area Team\\\",\\\"Address1\\\":\\\"The Old Exchange\\\",\\\"Address2\\\":\\\"Barnard Street\\\",\\\"City\\\":\\\"Darlington\\\",\\\"County\\\":\\\"Durham\\\",\\\"Postcode\\\":\\\"LS2 7UE\\\",\\\"Phone\\\":\\\"0113 825 1609\\\",\\\"Email\\\":\\\"england.ddt-at-generalenquiries@nhs.net\\\",\\\"Website\\\":\\\"http://www.england.nhs.uk/north/north/ddt-at/\\\"}},{\\\"type\\\":\\\"Feature\\\",\\\"id\\\":\\\"463122\\\",\\\"geometry\\\":{\\\"type\\\":\\\"Point\\\",\\\"coordinates\\\":[-2.233488082885742,53.47760009765625]},\\\"properties\\\":{\\\"OrganisationCode\\\":\\\"Q46\\\",\\\"OrganisationType\\\":\\\"Area Team\\\",\\\"SubType\\\":\\\"UNKNOWN\\\",\\\"OrganisationStatus\\\":\\\"Visible\\\",\\\"IsPimsManaged\\\":\\\"True\\\",\\\"OrganisationName\\\":\\\"Greater Manchester Area Team\\\",\\\"Address1\\\":\\\"4th Floor\\\",\\\"Address2\\\":\\\"3 Picadilly Place\\\",\\\"Address3\\\":\\\"London Road\\\",\\\"City\\\":\\\"Manchester\\\",\\\"County\\\":\\\"Lancashire\\\",\\\"Postcode\\\":\\\"M1 3BN\\\",\\\"Phone\\\":\\\"0845 0500194\\\",\\\"Email\\\":\\\"nhse.gmat@nhs.net\\\",\\\"Website\\\":\\\"http://www.england.nhs.uk/north/north/gm-at/\\\"}},{\\\"type\\\":\\\"Feature\\\",\\\"id\\\":\\\"463123\\\",\\\"geometry\\\":{\\\"type\\\":\\\"Point\\\",\\\"coordinates\\\":[-2.705566644668579,53.77775573730469]},\\\"properties\\\":{\\\"OrganisationCode\\\":\\\"Q47\\\",\\\"OrganisationType\\\":\\\"Area Team\\\",\\\"SubType\\\":\\\"UNKNOWN\\\",\\\"OrganisationStatus\\\":\\\"Visible\\\",\\\"IsPimsManaged\\\":\\\"True\\\",\\\"OrganisationName\\\":\\\"Lancashire Area Team\\\",\\\"Address1\\\":\\\"Second Floor, Preston Business Centre\\\",\\\"Address2\\\":\\\"Watling Street Road\\\",\\\"Address3\\\":\\\"Fulwood\\\",\\\"City\\\":\\\"Preston\\\",\\\"County\\\":\\\"Lancashire\\\",\\\"Postcode\\\":\\\"PR2 8DY\\\",\\\"Phone\\\":\\\"01772 420150\\\",\\\"Email\\\":\\\"england.contactus@nhs.net\\\",\\\"Website\\\":\\\"http://www.england.nhs.uk/north/north/lanc-at/\\\"}},{\\\"type\\\":\\\"Feature\\\",\\\"id\\\":\\\"463124\\\",\\\"geometry\\\":{\\\"type\\\":\\\"Point\\\",\\\"coordinates\\\":[-2.9802029132843018,53.38481903076172]},\\\"properties\\\":{\\\"OrganisationCode\\\":\\\"Q48\\\",\\\"OrganisationType\\\":\\\"Area Team\\\",\\\"SubType\\\":\\\"UNKNOWN\\\",\\\"OrganisationStatus\\\":\\\"Visible\\\",\\\"IsPimsManaged\\\":\\\"True\\\",\\\"OrganisationName\\\":\\\"Merseyside Area Team\\\",\\\"Address1\\\":\\\"Regatta Place\\\",\\\"Address2\\\":\\\"Summers Road\\\",\\\"Address3\\\":\\\"Brunswick Business Park\\\",\\\"City\\\":\\\"Liverpool\\\",\\\"County\\\":\\\"Merseyside\\\",\\\"Postcode\\\":\\\"L3 4BL\\\",\\\"Phone\\\":\\\"0151 285 4777\\\",\\\"Email\\\":\\\"england.contactus@nhs.net\\\",\\\"Website\\\":\\\"http://www.england.nhs.uk/north/north/mers-at/\\\"}},{\\\"type\\\":\\\"Feature\\\",\\\"id\\\":\\\"463125\\\",\\\"geometry\\\":{\\\"type\\\":\\\"Point\\\",\\\"coordinates\\\":[-1.7141016721725464,54.96938705444336]},\\\"properties\\\":{\\\"OrganisationCode\\\":\\\"Q49\\\",\\\"OrganisationType\\\":\\\"Area Team\\\",\\\"SubType\\\":\\\"UNKNOWN\\\",\\\"OrganisationStatus\\\":\\\"Visible\\\",\\\"IsPimsManaged\\\":\\\"True\\\",\\\"OrganisationName\\\":\\\"Cumbria, Northumberland, Tyne And Wear Area Team\\\",\\\"Address1\\\":\\\"Waterfront\\\",\\\"Address2\\\":\\\"4 Goldcrest Way\\\",\\\"Address3\\\":\\\"Newburn\\\",\\\"City\\\":\\\"Newcastle Upon Tyne\\\",\\\"County\\\":\\\"Tyne and Wear\\\",\\\"Postcode\\\":\\\"NE15 8NY\\\",\\\"Phone\\\":\\\"01912 106400\\\",\\\"Email\\\":\\\"england.contactus@nhs.net\\\",\\\"Website\\\":\\\"http://www.england.nhs.uk/north/north/cntw-at/\\\"}},{\\\"type\\\":\\\"Feature\\\",\\\"id\\\":\\\"463126\\\",\\\"geometry\\\":{\\\"type\\\":\\\"Point\\\",\\\"coordinates\\\":[-1.0497655868530273,53.989986419677734]},\\\"properties\\\":{\\\"OrganisationCode\\\":\\\"Q50\\\",\\\"OrganisationType\\\":\\\"Area Team\\\",\\\"SubType\\\":\\\"UNKNOWN\\\",\\\"OrganisationStatus\\\":\\\"Visible\\\",\\\"IsPimsManaged\\\":\\\"True\\\",\\\"OrganisationName\\\":\\\"North Yorkshire And Humber Area Team\\\",\\\"Address1\\\":\\\"Unit 3\\\",\\\"Address2\\\":\\\"Alpha Court\\\",\\\"Address3\\\":\\\"Monks Cross\\\",\\\"City\\\":\\\"York\\\",\\\"County\\\":\\\"North Yorkshire\\\",\\\"Postcode\\\":\\\"YO32 9WN\\\",\\\"Phone\\\":\\\"0113 825 1845\\\",\\\"Email\\\":\\\"england.contactus@nhs.net\\\",\\\"Website\\\":\\\"http://www.england.nhs.uk/north/north/nyh-at/\\\"}},{\\\"type\\\":\\\"Feature\\\",\\\"id\\\":\\\"463127\\\",\\\"geometry\\\":{\\\"type\\\":\\\"Point\\\",\\\"coordinates\\\":[-1.2550956010818481,53.42157745361328]},\\\"properties\\\":{\\\"OrganisationCode\\\":\\\"Q51\\\",\\\"OrganisationType\\\":\\\"Area Team\\\",\\\"SubType\\\":\\\"UNKNOWN\\\",\\\"OrganisationStatus\\\":\\\"Visible\\\",\\\"IsPimsManaged\\\":\\\"True\\\",\\\"OrganisationName\\\":\\\"South Yorkshire And Bassetlaw Area Team\\\",\\\"Address1\\\":\\\"Oak House\\\",\\\"Address2\\\":\\\"Moorhead Way\\\",\\\"Address3\\\":\\\"Bramley\\\",\\\"City\\\":\\\"Rotherham\\\",\\\"County\\\":\\\"South Yorkshire\\\",\\\"Postcode\\\":\\\"S66 1YY\\\",\\\"Phone\\\":\\\"01709 302000\\\",\\\"Email\\\":\\\"england.syb-businessoffice@nhs.net\\\",\\\"Website\\\":\\\"http://www.england.nhs.uk/north/north/syb-at/\\\"}},{\\\"type\\\":\\\"Feature\\\",\\\"id\\\":\\\"463128\\\",\\\"geometry\\\":{\\\"type\\\":\\\"Point\\\",\\\"coordinates\\\":[-1.544582486152649,53.78975296020508]},\\\"properties\\\":{\\\"OrganisationCode\\\":\\\"Q52\\\",\\\"OrganisationType\\\":\\\"Area Team\\\",\\\"SubType\\\":\\\"UNKNOWN\\\",\\\"OrganisationStatus\\\":\\\"Visible\\\",\\\"IsPimsManaged\\\":\\\"True\\\",\\\"OrganisationName\\\":\\\"West Yorkshire Area Team\\\",\\\"Address1\\\":\\\"3 Leeds City Office Park\\\",\\\"Address2\\\":\\\"Meadow Lane\\\",\\\"City\\\":\\\"Leeds\\\",\\\"County\\\":\\\"West Yorkshire\\\",\\\"Postcode\\\":\\\"LS11 5BD\\\",\\\"Phone\\\":\\\"0113 8252700\\\",\\\"Email\\\":\\\"reception.westyorkshireareateam@nhs.net\\\",\\\"Website\\\":\\\"http://www.england.nhs.uk/north/north/wy-at/\\\"}},{\\\"type\\\":\\\"Feature\\\",\\\"id\\\":\\\"463129\\\",\\\"geometry\\\":{\\\"type\\\":\\\"Point\\\",\\\"coordinates\\\":[-2.1813161373138428,52.18680953979492]},\\\"properties\\\":{\\\"OrganisationCode\\\":\\\"Q53\\\",\\\"OrganisationType\\\":\\\"Area Team\\\",\\\"SubType\\\":\\\"UNKNOWN\\\",\\\"OrganisationStatus\\\":\\\"Visible\\\",\\\"IsPimsManaged\\\":\\\"True\\\",\\\"OrganisationName\\\":\\\"Arden, Herefordshire And Worcestershire Area Team\\\",\\\"Address2\\\":\\\"Wildwood\\\",\\\"Address3\\\":\\\"Wildwood Drive\\\",\\\"City\\\":\\\"Worcester\\\",\\\"County\\\":\\\"Worcestershire\\\",\\\"Postcode\\\":\\\"WR5 2LG\\\",\\\"Phone\\\":\\\"0113 825 3099\\\",\\\"Email\\\":\\\"england.contactus@nhs.net\\\",\\\"Website\\\":\\\"http://www.england.nhs.uk/mids-east/mids-east-3/ahw-at/\\\"}},{\\\"type\\\":\\\"Feature\\\",\\\"id\\\":\\\"463130\\\",\\\"geometry\\\":{\\\"type\\\":\\\"Point\\\",\\\"coordinates\\\":[-1.9351675510406494,52.471920013427734]},\\\"properties\\\":{\\\"OrganisationCode\\\":\\\"Q54\\\",\\\"OrganisationType\\\":\\\"Area Team\\\",\\\"SubType\\\":\\\"UNKNOWN\\\",\\\"OrganisationStatus\\\":\\\"Visible\\\",\\\"IsPimsManaged\\\":\\\"True\\\",\\\"OrganisationName\\\":\\\"Birmingham And The Black Country Area Team\\\",\\\"Address1\\\":\\\"St Chads Court\\\",\\\"Address2\\\":\\\"213 Hagley Road\\\",\\\"Address3\\\":\\\"Edgbaston\\\",\\\"City\\\":\\\"Birmingham\\\",\\\"County\\\":\\\"West Midlands\\\",\\\"Postcode\\\":\\\"B16 9RG\\\",\\\"Phone\\\":\\\"0121 695 2222\\\",\\\"Email\\\":\\\"england.contactus@nhs.net\\\",\\\"Website\\\":\\\"http://www.england.nhs.uk/mids-east/mids-east-3/bsbc-at/\\\"}},{\\\"type\\\":\\\"Feature\\\",\\\"id\\\":\\\"463131\\\",\\\"geometry\\\":{\\\"type\\\":\\\"Point\\\",\\\"coordinates\\\":[-1.1435775756835938,53.12958526611328]},\\\"properties\\\":{\\\"OrganisationCode\\\":\\\"Q55\\\",\\\"OrganisationType\\\":\\\"Area Team\\\",\\\"SubType\\\":\\\"UNKNOWN\\\",\\\"OrganisationStatus\\\":\\\"Visible\\\",\\\"IsPimsManaged\\\":\\\"True\\\",\\\"OrganisationName\\\":\\\"Derbyshire And Nottinghamshire Area Team\\\",\\\"Address1\\\":\\\"Birch House\\\",\\\"Address2\\\":\\\"Ransom Wood Business Park\\\",\\\"Address3\\\":\\\"Southwell Road West, Rainworth\\\",\\\"City\\\":\\\"Nottingham\\\",\\\"County\\\":\\\"Nottinghamshire\\\",\\\"Postcode\\\":\\\"NG21 0HJ\\\",\\\"Phone\\\":\\\"0300 300 1234\\\",\\\"Email\\\":\\\"england.contactus@nhs.net\\\",\\\"Website\\\":\\\"http://www.england.nhs.uk/mids-east/mids-east-3/dn-at/\\\"}},{\\\"type\\\":\\\"Feature\\\",\\\"id\\\":\\\"463132\\\",\\\"geometry\\\":{\\\"type\\\":\\\"Point\\\",\\\"coordinates\\\":[0.19126050174236298,52.18547821044922]},\\\"properties\\\":{\\\"OrganisationCode\\\":\\\"Q56\\\",\\\"OrganisationType\\\":\\\"Area Team\\\",\\\"SubType\\\":\\\"UNKNOWN\\\",\\\"OrganisationStatus\\\":\\\"Visible\\\",\\\"IsPimsManaged\\\":\\\"True\\\",\\\"OrganisationName\\\":\\\"East Anglia Area Team\\\",\\\"Address1\\\":\\\"CPC1\\\",\\\"Address2\\\":\\\"Capital Business Park\\\",\\\"Address3\\\":\\\"Fulbourn\\\",\\\"City\\\":\\\"Cambridge\\\",\\\"County\\\":\\\"Cambridgeshire\\\",\\\"Postcode\\\":\\\"CB21 5XE\\\",\\\"Phone\\\":\\\"01223 708700\\\",\\\"Email\\\":\\\"england.contactus@nhs.net\\\",\\\"Website\\\":\\\"http://www.england.nhs.uk/mids-east/mids-east-3/ea-at/\\\"}},{\\\"type\\\":\\\"Feature\\\",\\\"id\\\":\\\"463133\\\",\\\"geometry\\\":{\\\"type\\\":\\\"Point\\\",\\\"coordinates\\\":[0.5076583027839661,51.74932098388672]},\\\"properties\\\":{\\\"OrganisationCode\\\":\\\"Q57\\\",\\\"OrganisationType\\\":\\\"Area Team\\\",\\\"SubType\\\":\\\"UNKNOWN\\\",\\\"OrganisationStatus\\\":\\\"Visible\\\",\\\"IsPimsManaged\\\":\\\"True\\\",\\\"OrganisationName\\\":\\\"Essex Area Team\\\",\\\"Address1\\\":\\\"Swift House\\\",\\\"Address2\\\":\\\"Hedgerows Business Park\\\",\\\"Address3\\\":\\\"Colchester Road, Springfield\\\",\\\"City\\\":\\\"Chelmsford\\\",\\\"County\\\":\\\"Essex\\\",\\\"Postcode\\\":\\\"CM2 5PF\\\",\\\"Phone\\\":\\\"01245 398770\\\",\\\"Email\\\":\\\"england.contactus@nhs.net\\\",\\\"Website\\\":\\\"http://www.england.nhs.uk/mids-east/mids-east-3/essex-at/\\\"}},{\\\"type\\\":\\\"Feature\\\",\\\"id\\\":\\\"463134\\\",\\\"geometry\\\":{\\\"type\\\":\\\"Point\\\",\\\"coordinates\\\":[-0.20884820818901062,51.8019905090332]},\\\"properties\\\":{\\\"OrganisationCode\\\":\\\"Q58\\\",\\\"OrganisationType\\\":\\\"Area Team\\\",\\\"SubType\\\":\\\"UNKNOWN\\\",\\\"OrganisationStatus\\\":\\\"Visible\\\",\\\"IsPimsManaged\\\":\\\"True\\\",\\\"OrganisationName\\\":\\\"Hertfordshire And The South Midlands Area Team\\\",\\\"Address1\\\":\\\"Charter House\\\",\\\"Address2\\\":\\\"Parkway\\\",\\\"City\\\":\\\"Welwyn Garden City\\\",\\\"County\\\":\\\"Hertfordshire\\\",\\\"Postcode\\\":\\\"AL8 6JL\\\",\\\"Phone\\\":\\\"01707 390855\\\",\\\"Email\\\":\\\"england.contactus@nhs.net\\\",\\\"Website\\\":\\\"http://www.england.nhs.uk/mids-east/mids-east-3/hsm-at/\\\"}},{\\\"type\\\":\\\"Feature\\\",\\\"id\\\":\\\"463135\\\",\\\"geometry\\\":{\\\"type\\\":\\\"Point\\\",\\\"coordinates\\\":[-1.189500093460083,52.593223571777344]},\\\"properties\\\":{\\\"OrganisationCode\\\":\\\"Q59\\\",\\\"OrganisationType\\\":\\\"Area Team\\\",\\\"SubType\\\":\\\"UNKNOWN\\\",\\\"OrganisationStatus\\\":\\\"Visible\\\",\\\"IsPimsManaged\\\":\\\"True\\\",\\\"OrganisationName\\\":\\\"Leicestershire And Lincolnshire Area Team\\\",\\\"Address1\\\":\\\"Fosse House\\\",\\\"Address2\\\":\\\"6 Smith Way\\\",\\\"Address3\\\":\\\"Grove Park, Enderby\\\",\\\"City\\\":\\\"Leicester\\\",\\\"County\\\":\\\"Leicestershire\\\",\\\"Postcode\\\":\\\"LE19 1SX\\\",\\\"Phone\\\":\\\"0116 295 7500\\\",\\\"Email\\\":\\\"england.leicsandlincsareateam@nhs.net\\\",\\\"Website\\\":\\\"http://www.england.nhs.uk/mids-east/mids-east-3/ll-at/\\\"}},{\\\"type\\\":\\\"Feature\\\",\\\"id\\\":\\\"463136\\\",\\\"geometry\\\":{\\\"type\\\":\\\"Point\\\",\\\"coordinates\\\":[-1.9140186309814453,52.7487907409668]},\\\"properties\\\":{\\\"OrganisationCode\\\":\\\"Q60\\\",\\\"OrganisationType\\\":\\\"Area Team\\\",\\\"SubType\\\":\\\"UNKNOWN\\\",\\\"OrganisationStatus\\\":\\\"Visible\\\",\\\"IsPimsManaged\\\":\\\"True\\\",\\\"OrganisationName\\\":\\\"Shropshire And Staffordshire Area Team\\\",\\\"Address1\\\":\\\"Anglesey House,\\\",\\\"Address2\\\":\\\"Wheelhouse Road,\\\",\\\"Address3\\\":\\\"Towers Plaza,\\\",\\\"City\\\":\\\"Rugeley,\\\",\\\"County\\\":\\\"Staffordshire\\\",\\\"Postcode\\\":\\\"WS15 1UL\\\",\\\"Phone\\\":\\\"0300 7900233\\\",\\\"Email\\\":\\\"england.contactus@nhs.net\\\",\\\"Website\\\":\\\"http://www.england.nhs.uk/mids-east/mids-east-3/ss-at/\\\"}}]}\\n\",\"selected\":{\"id\":\"2144\"},\"selection_policy\":{\"id\":\"2143\"}},\"id\":\"2055\",\"type\":\"GeoJSONDataSource\"},{\"attributes\":{\"fill_alpha\":{\"value\":0.9},\"fill_color\":{\"value\":\"#1f77b4\"},\"hatch_alpha\":{\"value\":0.9},\"line_alpha\":{\"value\":0.9},\"line_color\":{\"value\":\"#1f77b4\"},\"x\":{\"field\":\"x\"},\"y\":{\"field\":\"y\"}},\"id\":\"2088\",\"type\":\"Circle\"},{\"attributes\":{},\"id\":\"2142\",\"type\":\"AllLabels\"},{\"attributes\":{\"coordinates\":null,\"group\":null},\"id\":\"2135\",\"type\":\"Title\"},{\"attributes\":{\"axis\":{\"id\":\"2065\"},\"coordinates\":null,\"group\":null,\"ticker\":null},\"id\":\"2068\",\"type\":\"Grid\"},{\"attributes\":{},\"id\":\"2063\",\"type\":\"LinearScale\"},{\"attributes\":{},\"id\":\"2143\",\"type\":\"UnionRenderers\"},{\"attributes\":{\"coordinates\":null,\"data_source\":{\"id\":\"2055\"},\"glyph\":{\"id\":\"2088\"},\"group\":null,\"hover_glyph\":null,\"muted_glyph\":{\"id\":\"2090\"},\"nonselection_glyph\":{\"id\":\"2089\"},\"view\":{\"id\":\"2092\"}},\"id\":\"2091\",\"type\":\"GlyphRenderer\"},{\"attributes\":{},\"id\":\"2144\",\"type\":\"Selection\"},{\"attributes\":{},\"id\":\"2070\",\"type\":\"BasicTicker\"},{\"attributes\":{},\"id\":\"2077\",\"type\":\"ResetTool\"},{\"attributes\":{},\"id\":\"2066\",\"type\":\"BasicTicker\"},{\"attributes\":{},\"id\":\"2057\",\"type\":\"DataRange1d\"},{\"attributes\":{},\"id\":\"2076\",\"type\":\"SaveTool\"},{\"attributes\":{\"bottom_units\":\"screen\",\"coordinates\":null,\"fill_alpha\":0.5,\"fill_color\":\"lightgrey\",\"group\":null,\"left_units\":\"screen\",\"level\":\"overlay\",\"line_alpha\":1.0,\"line_color\":\"black\",\"line_dash\":[4,4],\"line_width\":2,\"right_units\":\"screen\",\"syncable\":false,\"top_units\":\"screen\"},\"id\":\"2079\",\"type\":\"BoxAnnotation\"},{\"attributes\":{\"fill_alpha\":{\"value\":0.2},\"fill_color\":{\"value\":\"#1f77b4\"},\"hatch_alpha\":{\"value\":0.2},\"line_alpha\":{\"value\":0.2},\"line_color\":{\"value\":\"#1f77b4\"},\"x\":{\"field\":\"x\"},\"y\":{\"field\":\"y\"}},\"id\":\"2090\",\"type\":\"Circle\"},{\"attributes\":{},\"id\":\"2061\",\"type\":\"LinearScale\"},{\"attributes\":{},\"id\":\"2078\",\"type\":\"HelpTool\"},{\"attributes\":{\"axis\":{\"id\":\"2069\"},\"coordinates\":null,\"dimension\":1,\"group\":null,\"ticker\":null},\"id\":\"2072\",\"type\":\"Grid\"},{\"attributes\":{\"coordinates\":null,\"formatter\":{\"id\":\"2138\"},\"group\":null,\"major_label_policy\":{\"id\":\"2139\"},\"ticker\":{\"id\":\"2070\"}},\"id\":\"2069\",\"type\":\"LinearAxis\"},{\"attributes\":{\"fill_alpha\":{\"value\":0.1},\"fill_color\":{\"value\":\"#1f77b4\"},\"hatch_alpha\":{\"value\":0.1},\"line_alpha\":{\"value\":0.1},\"line_color\":{\"value\":\"#1f77b4\"},\"x\":{\"field\":\"x\"},\"y\":{\"field\":\"y\"}},\"id\":\"2089\",\"type\":\"Circle\"},{\"attributes\":{\"tools\":[{\"id\":\"2073\"},{\"id\":\"2074\"},{\"id\":\"2075\"},{\"id\":\"2076\"},{\"id\":\"2077\"},{\"id\":\"2078\"}]},\"id\":\"2080\",\"type\":\"Toolbar\"},{\"attributes\":{},\"id\":\"2059\",\"type\":\"DataRange1d\"},{\"attributes\":{},\"id\":\"2074\",\"type\":\"WheelZoomTool\"},{\"attributes\":{},\"id\":\"2073\",\"type\":\"PanTool\"},{\"attributes\":{\"overlay\":{\"id\":\"2079\"}},\"id\":\"2075\",\"type\":\"BoxZoomTool\"},{\"attributes\":{},\"id\":\"2138\",\"type\":\"BasicTickFormatter\"}],\"root_ids\":[\"2056\"]},\"title\":\"Bokeh Application\",\"version\":\"2.4.3\"}};\n",
       "  const render_items = [{\"docid\":\"f22c1d9c-b007-4557-b8ee-4c99002ec1b9\",\"root_ids\":[\"2056\"],\"roots\":{\"2056\":\"f46d9bf4-d5e5-4ed0-a5bc-9d675b831c47\"}}];\n",
       "  root.Bokeh.embed.embed_items_notebook(docs_json, render_items);\n",
       "  }\n",
       "  if (root.Bokeh !== undefined) {\n",
       "    embed_document(root);\n",
       "  } else {\n",
       "    let attempts = 0;\n",
       "    const timer = setInterval(function(root) {\n",
       "      if (root.Bokeh !== undefined) {\n",
       "        clearInterval(timer);\n",
       "        embed_document(root);\n",
       "      } else {\n",
       "        attempts++;\n",
       "        if (attempts > 100) {\n",
       "          clearInterval(timer);\n",
       "          console.log(\"Bokeh: ERROR: Unable to run BokehJS code because BokehJS library is missing\");\n",
       "        }\n",
       "      }\n",
       "    }, 10, root)\n",
       "  }\n",
       "})(window);"
      ],
      "application/vnd.bokehjs_exec.v0+json": ""
     },
     "metadata": {
      "application/vnd.bokehjs_exec.v0+json": {
       "id": "2056"
      }
     },
     "output_type": "display_data"
    }
   ],
   "source": [
    "# Geojson\n",
    "from bokeh.io import output_file, show \n",
    "from bokeh.models import GeoJSONDataSource\n",
    "from bokeh.plotting import figure \n",
    "from bokeh.sampledata.sample_geojson import geojson\n",
    "\n",
    "geo_source = GeoJSONDataSource(geojson=geojson)\n",
    "\n",
    "p = figure()\n",
    "p.circle(x = 'x', y = 'y', alpha = 0.9, source = geo_source)\n",
    "output_file(\"Bokeh-GeoJSON.html\")\n",
    "show(p)"
   ]
  },
  {
   "cell_type": "code",
   "execution_count": 14,
   "id": "e88b6202",
   "metadata": {},
   "outputs": [
    {
     "name": "stdout",
     "output_type": "stream",
     "text": [
      "Using data directory: C:\\Users\\della\\.bokeh\\data\n",
      "Skipping 'CGM.csv' (checksum match)\n",
      "Skipping 'US_Counties.zip' (checksum match)\n",
      "Skipping 'us_cities.json' (checksum match)\n",
      "Skipping 'unemployment09.csv' (checksum match)\n",
      "Skipping 'AAPL.csv' (checksum match)\n",
      "Skipping 'FB.csv' (checksum match)\n",
      "Skipping 'GOOG.csv' (checksum match)\n",
      "Skipping 'IBM.csv' (checksum match)\n",
      "Skipping 'MSFT.csv' (checksum match)\n",
      "Skipping 'WPP2012_SA_DB03_POPULATION_QUINQUENNIAL.zip' (checksum match)\n",
      "Skipping 'gapminder_fertility.csv' (checksum match)\n",
      "Skipping 'gapminder_population.csv' (checksum match)\n",
      "Skipping 'gapminder_life_expectancy.csv' (checksum match)\n",
      "Skipping 'gapminder_regions.csv' (checksum match)\n",
      "Skipping 'world_cities.zip' (checksum match)\n",
      "Skipping 'airports.json' (checksum match)\n",
      "Skipping 'movies.db.zip' (checksum match)\n",
      "Skipping 'airports.csv' (checksum match)\n",
      "Skipping 'routes.csv' (checksum match)\n",
      "Skipping 'haarcascade_frontalface_default.xml' (checksum match)\n"
     ]
    }
   ],
   "source": [
    "# Baixando o diretorio de dados de exemplo do Bokeh\n",
    "bokeh.sampledata.download()"
   ]
  },
  {
   "cell_type": "code",
   "execution_count": 15,
   "id": "2cfec0fe",
   "metadata": {},
   "outputs": [],
   "source": [
    "# Mapa \n",
    "from bokeh.io import show \n",
    "from bokeh.models import (ColumnDataSource, HoverTool, LogColorMapper)\n",
    "from bokeh.palettes import Viridis6 as palette \n",
    "from bokeh.plotting import figure \n",
    "from bokeh.sampledata.us_counties import data as counties \n",
    "from bokeh.sampledata.unemployment import data as unemployment \n",
    "\n",
    "# palette.reverse()\n",
    "\n",
    "counties = {code: county for code, county in conties.items() if county[\"state\"] == \"tx\"}\n",
    "\n",
    "county_xs = [county[\"lons\"] for county in counties.values()]\n",
    "county_ys = [county[\"lats\"] for county in counties.values()]\n",
    "\n",
    "county_names = [county[\"name\"] for county in counties.values()]\n",
    "county_rates = [unemployment[country_id] for country_id in counties]\n",
    "color_mapper = LogColorMapper(palette=palette)\n",
    "\n",
    "source = ColumnDataSource(data = dict(x = county_xs,\n",
    "                                      y = county_ys,\n",
    "                                      name = county_names, \n",
    "                                      rate = county_rates,))\n",
    "\n",
    "TOOLS = \"pan,wheel_zoom,reset,hover,save\"\n",
    "\n",
    "p = figure(title = \"Texas Unemployment, 2009\",\n",
    "          tools = TOOLS, \n",
    "          x_axis_location = None,\n",
    "          y_axis_location = None)\n",
    "\n",
    "p.grid.grid_line_color = None\n",
    "\n",
    "p.patches('x', 'y', source = source, \n",
    "          fill_color = {'field': 'rate', 'transform': color_mapper},\n",
    "         fill_alpha = 0.7, line_color = \"white\", line_width = 0.5)\n",
    "\n",
    "hover = p.select_one(HoverTool)\n",
    "hover.point_policy = \"follow_mouse\"\n",
    "hover.tooltips = [\n",
    "    (\"Name\", \"@name\"),\n",
    "    (\"U\")\n",
    "]"
   ]
  },
  {
   "cell_type": "code",
   "execution_count": null,
   "id": "79923597",
   "metadata": {},
   "outputs": [],
   "source": []
  }
 ],
 "metadata": {
  "kernelspec": {
   "display_name": "Python 3 (ipykernel)",
   "language": "python",
   "name": "python3"
  },
  "language_info": {
   "codemirror_mode": {
    "name": "ipython",
    "version": 3
   },
   "file_extension": ".py",
   "mimetype": "text/x-python",
   "name": "python",
   "nbconvert_exporter": "python",
   "pygments_lexer": "ipython3",
   "version": "3.9.13"
  }
 },
 "nbformat": 4,
 "nbformat_minor": 5
}
